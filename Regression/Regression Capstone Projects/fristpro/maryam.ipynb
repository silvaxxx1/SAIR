{
 "cells": [
  {
   "cell_type": "code",
   "execution_count": 6,
   "id": "202c1692",
   "metadata": {},
   "outputs": [],
   "source": [
    "import numpy as np\n",
    "import matplotlib.pyplot as plt\n",
    "import time\n",
    "from sklearn.linear_model import LinearRegression as SklearnLinearRegression\n",
    "from sklearn.metrics import mean_squared_error, r2_score \n",
    "\n",
    "import pandas as pd\n",
    "from sklearn.impute import SimpleImputer #handle datamissing\n",
    "from sklearn.preprocessing import OneHotEncoder\n",
    "from sklearn.compose import ColumnTransformer #categorical column\n",
    "import seaborn as sns #for Correlation matrix\n",
    "#this for spillit and scaling\n",
    "from sklearn.model_selection import train_test_split\n",
    "from sklearn.preprocessing import StandardScaler\n",
    "from sklearn.pipeline import Pipeline\n",
    "import joblib # Save the best model (poly_pipeline)\n",
    "\n"
   ]
  },
  {
   "cell_type": "markdown",
   "id": "89e2592e",
   "metadata": {},
   "source": [
    "\n",
    "# 🛠️ Production Environment Setup\n",
    "\n",
    "---\n",
    "\n",
    "> 💡 **Pro Tip:** Think of this step as setting the foundation of a building — if it’s strong and well-organized, everything built on top will be reliable, scalable, and easier to maintain.\n"
   ]
  },
  {
   "cell_type": "code",
   "execution_count": 1,
   "id": "79f31d48",
   "metadata": {},
   "outputs": [],
   "source": [
    "# 🛠️ Advanced imports for production ML\n",
    "\n",
    "# Suppress warnings for cleaner outputs\n",
    "import warnings\n",
    "warnings.filterwarnings('ignore')\n",
    "\n",
    "# 🔧 Core Python libraries\n",
    "import numpy as np           # Efficient numerical computations\n",
    "import pandas as pd          # Data manipulation and analysis\n",
    "import matplotlib.pyplot as plt  # Basic plotting\n",
    "import seaborn as sns        # Advanced visualization\n",
    "from scipy import stats      # Statistical functions\n",
    "import joblib               # Save/load large models and preprocessing objects\n",
    "import json                 # Handle JSON configs and outputs\n",
    "from datetime import datetime  # Timestamping for logs\n",
    "import os                   # File system operations\n",
    "import time                 # Time tracking for experiments\n",
    "\n",
    "\n",
    "\n",
    "# 🧰 Sklearn libraries - expanded for advanced ML workflows\n",
    "\n",
    "from sklearn.model_selection import (\n",
    "    train_test_split,     # Split data into train/test sets\n",
    "    cross_val_score,      # Cross-validation scoring\n",
    "    GridSearchCV,         # Hyperparameter tuning (grid search)\n",
    "    RandomizedSearchCV    # Hyperparameter tuning (randomized search)\n",
    ")\n",
    "from sklearn.preprocessing import (\n",
    "    StandardScaler,       # Feature scaling (zero-mean, unit variance)\n",
    "    RobustScaler,         # Scaling robust to outliers\n",
    "    PolynomialFeatures    # Generate polynomial features for non-linear relationships\n",
    ")\n",
    "from sklearn.pipeline import Pipeline, FeatureUnion  # Build modular pipelines\n",
    "from sklearn.compose import ColumnTransformer         # Apply different preprocessing to columns\n",
    "from sklearn.feature_selection import (\n",
    "    SelectKBest,          # Univariate feature selection\n",
    "    f_regression,         # Scoring function for regression\n",
    "    RFE                   # Recursive feature elimination\n",
    ")\n",
    "from sklearn.linear_model import (\n",
    "    LinearRegression,     # Baseline regression\n",
    "    Ridge,                # L2-regularized regression\n",
    "    Lasso,                # L1-regularized regression\n",
    "    ElasticNet            # Combination of L1 and L2 regularization\n",
    ")\n",
    "from sklearn.ensemble import (\n",
    "    RandomForestRegressor,       # Ensemble of decision trees\n",
    "    GradientBoostingRegressor,   # Boosted trees for regression\n",
    "    VotingRegressor              # Combine multiple regressors\n",
    ")\n",
    "from sklearn.svm import SVR               # Support Vector Regression\n",
    "from sklearn.metrics import (\n",
    "    mean_squared_error,  # Regression metric\n",
    "    r2_score,            # Regression metric\n",
    "    mean_absolute_error  # Regression metric\n",
    ")\n",
    "from sklearn.inspection import (\n",
    "    permutation_importance,       # Feature importance\n",
    "    PartialDependenceDisplay      # Partial dependence plots\n",
    ")\n",
    "\n",
    "# 🧪 Advanced model tracking with MLflow\n",
    "import mlflow                  # Experiment tracking\n",
    "import mlflow.sklearn          # Log sklearn models\n",
    "from mlflow.models.signature import infer_signature  # Auto-capture input/output schema for reproducible deployment\n"
   ]
  },
  {
   "cell_type": "markdown",
   "id": "0211eaa2",
   "metadata": {},
   "source": [
    "# Part 1\n",
    "# 🎛️ Configuration & Reproducibility\n",
    "\n",
    "Before we start modeling, it’s crucial to **establish reproducible and scalable experiment settings**. This ensures that results are consistent, experiments are traceable, and your workflow is production-ready.\n",
    "\n",
    "### Key Components:\n",
    "\n",
    "1. **Reproducibility**\n",
    "   - `RANDOM_STATE = 42`: Ensures that every run produces the same train/test splits, random sampling, and model results.\n",
    "   - `TEST_SIZE = 0.2`: Reserves 20% of the data for final evaluation.\n",
    "   - `VAL_SIZE = 0.2`: Reserves a portion of the training data for validation and hyperparameter tuning.\n",
    "   - `CV_FOLDS = 5`: Use 5-fold cross-validation to evaluate models robustly.\n",
    "   - `N_JOBS = -1`: Utilizes all available CPU cores to speed up computations.\n",
    "\n",
    "> 💡 **Pro Tip:** Proper configuration and tracking is like laying the foundation of a building—everything built on top will be reliable, reproducible, and easy to maintain.\n",
    "\n",
    "class Config:\n",
    "    # Reproducibility - Critical for production!\n",
    "    RANDOM_STATE = 42\n",
    "    TEST_SIZE = 0.2\n",
    "    VAL_SIZE = 0.2  # NEW: Validation set for tuning\n",
    "    CV_FOLDS = 5\n",
    "    N_JOBS = -1  # Use all available cores\n",
    "\n"
   ]
  },
  {
   "cell_type": "code",
   "execution_count": 5,
   "id": "0fe839da",
   "metadata": {},
   "outputs": [
    {
     "name": "stderr",
     "output_type": "stream",
     "text": [
      "2025/10/30 19:11:47 INFO mlflow.tracking.fluent: Experiment with name 'student_exam_score_advanced' does not exist. Creating a new experiment.\n"
     ]
    },
    {
     "name": "stdout",
     "output_type": "stream",
     "text": [
      "✅ MLflow tracking URI set to: c:\\Users\\pc\\OneDrive\\Desktop\\github M.mohamed\\SAIR\\Regression\\fristpro\\experiments\n",
      "✅ Using experiment: student_exam_score_advanced\n"
     ]
    }
   ],
   "source": [
    "import os\n",
    "import mlflow\n",
    "\n",
    "class Config:\n",
    "    # Reproducibility\n",
    "    RANDOM_STATE = 42\n",
    "    TEST_SIZE = 0.2\n",
    "    VAL_SIZE = 0.2\n",
    "    CV_FOLDS = 5\n",
    "    N_JOBS = -1  # Use all CPU cores\n",
    "\n",
    "    # Model & experiment directories\n",
    "    MODEL_DIR = \"models\"\n",
    "    EXPERIMENT_DIR = \"experiments\"\n",
    "\n",
    "    # Ensure directories exist\n",
    "    os.makedirs(MODEL_DIR, exist_ok=True)\n",
    "    os.makedirs(EXPERIMENT_DIR, exist_ok=True)\n",
    "\n",
    "# ✅ Create config object\n",
    "config = Config()\n",
    "\n",
    "# ✅ Use plain absolute path (no \"file://\" prefix — Windows fix)\n",
    "mlflow.set_tracking_uri(f\"file:///{os.path.abspath(config.EXPERIMENT_DIR).replace('\\\\', '/')}\")\n",
    "\n",
    "\n",
    "# ✅ Define or get experiment\n",
    "experiment_name = \"student_exam_score_advanced\"\n",
    "mlflow.set_experiment(experiment_name)\n",
    "\n",
    "print(f\"✅ MLflow tracking URI set to: {os.path.abspath(config.EXPERIMENT_DIR)}\")\n",
    "print(f\"✅ Using experiment: {experiment_name}\")\n"
   ]
  },
  {
   "cell_type": "markdown",
   "id": "10a9d433",
   "metadata": {},
   "source": [
    "# Part 2️⃣: Real-World Dataset — Studant Exam Score\n",
    "\n",
    "Now let's work with **real data**! The  dataset .\n",
    "\n",
    "## 📋 Dataset Features\n",
    "\n",
    "| Feature | Description |\n",
    "|---------|-------------|\n",
    "| **studeant id** | Id for student in block group |\n",
    "| **Hours Studied** |Hours number of studied  in block group |\n",
    "| **sleep hours** | hours number of roomsleep  |\n",
    "| **Attendans Present** | Attendance number of students  |\n",
    "| **previous scores** | previous score for student |\n",
    "| **Target** | exam score value (51 or more) |\n",
    "\n",
    "## 🔍 Step 1: Loading the data\n",
    "\n",
    "# Lets load the dataset (the bad way)\n"
   ]
  },
  {
   "cell_type": "code",
   "execution_count": 6,
   "id": "0f2da189",
   "metadata": {},
   "outputs": [
    {
     "data": {
      "text/html": [
       "<div>\n",
       "<style scoped>\n",
       "    .dataframe tbody tr th:only-of-type {\n",
       "        vertical-align: middle;\n",
       "    }\n",
       "\n",
       "    .dataframe tbody tr th {\n",
       "        vertical-align: top;\n",
       "    }\n",
       "\n",
       "    .dataframe thead th {\n",
       "        text-align: right;\n",
       "    }\n",
       "</style>\n",
       "<table border=\"1\" class=\"dataframe\">\n",
       "  <thead>\n",
       "    <tr style=\"text-align: right;\">\n",
       "      <th></th>\n",
       "      <th>student_id</th>\n",
       "      <th>hours_studied</th>\n",
       "      <th>sleep_hours</th>\n",
       "      <th>attendance_percent</th>\n",
       "      <th>previous_scores</th>\n",
       "      <th>exam_score</th>\n",
       "    </tr>\n",
       "  </thead>\n",
       "  <tbody>\n",
       "    <tr>\n",
       "      <th>0</th>\n",
       "      <td>S001</td>\n",
       "      <td>8.0</td>\n",
       "      <td>8.8</td>\n",
       "      <td>72.1</td>\n",
       "      <td>45</td>\n",
       "      <td>30.2</td>\n",
       "    </tr>\n",
       "    <tr>\n",
       "      <th>1</th>\n",
       "      <td>S002</td>\n",
       "      <td>1.3</td>\n",
       "      <td>8.6</td>\n",
       "      <td>60.7</td>\n",
       "      <td>55</td>\n",
       "      <td>25.0</td>\n",
       "    </tr>\n",
       "    <tr>\n",
       "      <th>2</th>\n",
       "      <td>S003</td>\n",
       "      <td>4.0</td>\n",
       "      <td>8.2</td>\n",
       "      <td>73.7</td>\n",
       "      <td>86</td>\n",
       "      <td>35.8</td>\n",
       "    </tr>\n",
       "    <tr>\n",
       "      <th>3</th>\n",
       "      <td>S004</td>\n",
       "      <td>3.5</td>\n",
       "      <td>4.8</td>\n",
       "      <td>95.1</td>\n",
       "      <td>66</td>\n",
       "      <td>34.0</td>\n",
       "    </tr>\n",
       "    <tr>\n",
       "      <th>4</th>\n",
       "      <td>S005</td>\n",
       "      <td>9.1</td>\n",
       "      <td>6.4</td>\n",
       "      <td>89.8</td>\n",
       "      <td>71</td>\n",
       "      <td>40.3</td>\n",
       "    </tr>\n",
       "  </tbody>\n",
       "</table>\n",
       "</div>"
      ],
      "text/plain": [
       "  student_id  hours_studied  sleep_hours  attendance_percent  previous_scores  \\\n",
       "0       S001            8.0          8.8                72.1               45   \n",
       "1       S002            1.3          8.6                60.7               55   \n",
       "2       S003            4.0          8.2                73.7               86   \n",
       "3       S004            3.5          4.8                95.1               66   \n",
       "4       S005            9.1          6.4                89.8               71   \n",
       "\n",
       "   exam_score  \n",
       "0        30.2  \n",
       "1        25.0  \n",
       "2        35.8  \n",
       "3        34.0  \n",
       "4        40.3  "
      ]
     },
     "execution_count": 6,
     "metadata": {},
     "output_type": "execute_result"
    }
   ],
   "source": [
    "data_score = pd.read_csv(\"C:/Users/pc/Downloads/archive.zip\")\n",
    "data_score.head()"
   ]
  },
  {
   "cell_type": "markdown",
   "id": "6ced024b",
   "metadata": {},
   "source": [
    "# 🐼 Dataset by Pandas\n",
    "\n",
    "[Pandas](https://pandas.pydata.org/) is the **go-to Python library for data manipulation and analysis**.  \n",
    "\n"
   ]
  },
  {
   "cell_type": "code",
   "execution_count": 9,
   "id": "200fbdc2",
   "metadata": {},
   "outputs": [
    {
     "ename": "AttributeError",
     "evalue": "'DataFrame' object has no attribute 'data'",
     "output_type": "error",
     "traceback": [
      "\u001b[31m---------------------------------------------------------------------------\u001b[39m",
      "\u001b[31mAttributeError\u001b[39m                            Traceback (most recent call last)",
      "\u001b[32m~\\AppData\\Local\\Temp\\ipykernel_6320\\2983288981.py\u001b[39m in \u001b[36m?\u001b[39m\u001b[34m()\u001b[39m\n\u001b[32m      1\u001b[39m \u001b[38;5;66;03m# Create DataFrame\u001b[39;00m\n\u001b[32m----> \u001b[39m\u001b[32m2\u001b[39m df = pd.DataFrame(data_score.data, columns=data_score.feature_names)\n\u001b[32m      3\u001b[39m df[\u001b[33m'score'\u001b[39m] = data_score.target  \u001b[38;5;66;03m# Target variable\u001b[39;00m\n\u001b[32m      4\u001b[39m \n\u001b[32m      5\u001b[39m print(f\"\\n✅ Dataset loaded successfully!\")\n",
      "\u001b[32mc:\\Users\\pc\\OneDrive\\Desktop\\github M.mohamed\\SAIR\\Regression\\.venv\\Lib\\site-packages\\pandas\\core\\generic.py\u001b[39m in \u001b[36m?\u001b[39m\u001b[34m(self, name)\u001b[39m\n\u001b[32m   6317\u001b[39m             \u001b[38;5;28;01mand\u001b[39;00m name \u001b[38;5;28;01mnot\u001b[39;00m \u001b[38;5;28;01min\u001b[39;00m self._accessors\n\u001b[32m   6318\u001b[39m             \u001b[38;5;28;01mand\u001b[39;00m self._info_axis._can_hold_identifiers_and_holds_name(name)\n\u001b[32m   6319\u001b[39m         ):\n\u001b[32m   6320\u001b[39m             \u001b[38;5;28;01mreturn\u001b[39;00m self[name]\n\u001b[32m-> \u001b[39m\u001b[32m6321\u001b[39m         \u001b[38;5;28;01mreturn\u001b[39;00m object.__getattribute__(self, name)\n",
      "\u001b[31mAttributeError\u001b[39m: 'DataFrame' object has no attribute 'data'"
     ]
    }
   ],
   "source": [
    "\n",
    "\n",
    "# Create DataFrame\n",
    "df = pd.DataFrame(data_score.data, columns=data_score.feature_names)\n",
    "df['score'] = data_score.target  # Target variable\n",
    "\n",
    "print(f\"\\n✅ Dataset loaded successfully!\")\n",
    "print(f\"Shape: {df.shape}\")\n",
    "print(f\"Features: {data_score.feature_names}\")\n",
    "print(f\"\\nFirst 5 rows:\")\n",
    "df.head(30)\n"
   ]
  },
  {
   "cell_type": "code",
   "execution_count": 10,
   "id": "b0a5cfe8",
   "metadata": {},
   "outputs": [
    {
     "ename": "ImportError",
     "evalue": "cannot import name 'studant_exam_score' from 'sklearn.datasets' (c:\\Users\\pc\\OneDrive\\Desktop\\github M.mohamed\\SAIR\\Regression\\.venv\\Lib\\site-packages\\sklearn\\datasets\\__init__.py)",
     "output_type": "error",
     "traceback": [
      "\u001b[31m---------------------------------------------------------------------------\u001b[39m",
      "\u001b[31mImportError\u001b[39m                               Traceback (most recent call last)",
      "\u001b[36mCell\u001b[39m\u001b[36m \u001b[39m\u001b[32mIn[10]\u001b[39m\u001b[32m, line 2\u001b[39m\n\u001b[32m      1\u001b[39m \u001b[38;5;66;03m# Load data (same as previous notebook)\u001b[39;00m\n\u001b[32m----> \u001b[39m\u001b[32m2\u001b[39m \u001b[38;5;28;01mfrom\u001b[39;00m\u001b[38;5;250m \u001b[39m\u001b[34;01msklearn\u001b[39;00m\u001b[34;01m.\u001b[39;00m\u001b[34;01mdatasets\u001b[39;00m\u001b[38;5;250m \u001b[39m\u001b[38;5;28;01mimport\u001b[39;00m studant_exam_score\n\u001b[32m      3\u001b[39m \u001b[38;5;28;01mimport\u001b[39;00m\u001b[38;5;250m \u001b[39m\u001b[34;01mnumpy\u001b[39;00m\u001b[38;5;250m \u001b[39m\u001b[38;5;28;01mas\u001b[39;00m\u001b[38;5;250m \u001b[39m\u001b[34;01mnp\u001b[39;00m\n\u001b[32m      5\u001b[39m studant= studant_exam_score()\n",
      "\u001b[31mImportError\u001b[39m: cannot import name 'studant_exam_score' from 'sklearn.datasets' (c:\\Users\\pc\\OneDrive\\Desktop\\github M.mohamed\\SAIR\\Regression\\.venv\\Lib\\site-packages\\sklearn\\datasets\\__init__.py)"
     ]
    }
   ],
   "source": [
    "# Load data (same as previous notebook)\n",
    "from sklearn.datasets import studant_exam_score\n",
    "import numpy as np\n",
    "\n",
    "studant= studant_exam_score()\n",
    "X = studant.data\n",
    "y = studant.target\n",
    "feature_names = studant.feature_names\n",
    "\n",
    "print(\"📊 Original Features (from previous notebook):\")\n",
    "for i, feature in enumerate(feature_names):\n",
    "    print(f\"  {i+1:2d}. {feature}\")"
   ]
  },
  {
   "cell_type": "code",
   "execution_count": null,
   "id": "81cb92a9",
   "metadata": {},
   "outputs": [
    {
     "name": "stdout",
     "output_type": "stream",
     "text": [
      "\n",
      "✅ Dataset loaded successfully!\n",
      "Shape: (200, 6)\n",
      "Features: Index(['student_id', 'hours_studied', 'sleep_hours', 'attendance_percent',\n",
      "       'previous_scores', 'exam_score'],\n",
      "      dtype='object')\n",
      "\n",
      "First 5 rows:\n",
      "\n",
      "معلومات عامة:\n",
      "<class 'pandas.core.frame.DataFrame'>\n",
      "RangeIndex: 200 entries, 0 to 199\n",
      "Data columns (total 6 columns):\n",
      " #   Column              Non-Null Count  Dtype  \n",
      "---  ------              --------------  -----  \n",
      " 0   student_id          200 non-null    object \n",
      " 1   hours_studied       200 non-null    float64\n",
      " 2   sleep_hours         200 non-null    float64\n",
      " 3   attendance_percent  200 non-null    float64\n",
      " 4   previous_scores     200 non-null    int64  \n",
      " 5   exam_score          200 non-null    float64\n",
      "dtypes: float64(4), int64(1), object(1)\n",
      "memory usage: 9.5+ KB\n",
      "None\n",
      "======================================================================\n",
      "📊 DATASET STATISTICS\n",
      "======================================================================\n",
      "       hours_studied  sleep_hours  attendance_percent  previous_scores  \\\n",
      "count     200.000000   200.000000          200.000000       200.000000   \n",
      "mean        6.325500     6.622000           74.830000        66.800000   \n",
      "std         3.227317     1.497138           14.249905        15.663869   \n",
      "min         1.000000     4.000000           50.300000        40.000000   \n",
      "25%         3.500000     5.300000           62.200000        54.000000   \n",
      "50%         6.150000     6.700000           75.250000        67.500000   \n",
      "75%         9.000000     8.025000           87.425000        80.000000   \n",
      "max        12.000000     9.000000          100.000000        95.000000   \n",
      "\n",
      "       exam_score  \n",
      "count  200.000000  \n",
      "mean    33.955000  \n",
      "std      6.789548  \n",
      "min     17.100000  \n",
      "25%     29.500000  \n",
      "50%     34.050000  \n",
      "75%     38.750000  \n",
      "max     51.300000  \n"
     ]
    }
   ],
   "source": [
    "#LOAD DATASET\n",
    "\n",
    "df = pd.read_csv(\"C:/Users/pc/Downloads/archive.zip\")\n",
    "\n",
    "print(f\"\\n✅ Dataset loaded successfully!\")\n",
    "print(f\"Shape: {df.shape}\")\n",
    "print(f\"Features: {df.columns}\")\n",
    "print(f\"\\nFirst 5 rows:\")\n",
    "df.head(30)\n",
    "\n",
    "# معلومات عامة عن البيانات\n",
    "print(\"\\nمعلومات عامة:\")\n",
    "print(df.info())\n",
    "\n",
    "# إحصائيات وصفية-------------------------\n",
    "#Basic statistics\n",
    "print(\"=\" * 70)\n",
    "print(\"📊 DATASET STATISTICS\")\n",
    "print(\"=\" * 70)\n",
    "print(df.describe())"
   ]
  },
  {
   "cell_type": "markdown",
   "id": "48382b99",
   "metadata": {},
   "source": [
    "## 🔍 Step 2: Exploratory Data Analysis (EDA)\n",
    "\n",
    "Before building models, we must **understand our data**:\n",
    "- Check for missing values\n",
    "- Understand distributions\n",
    "- Detect outliers\n",
    "- Explore relationships between features"
   ]
  },
  {
   "cell_type": "code",
   "execution_count": 13,
   "id": "cc3307a9",
   "metadata": {},
   "outputs": [
    {
     "name": "stdout",
     "output_type": "stream",
     "text": [
      "\n",
      "======================================================================\n",
      "🔍 MISSING VALUES CHECK\n",
      "======================================================================\n",
      "student_id            0\n",
      "hours_studied         0\n",
      "sleep_hours           0\n",
      "attendance_percent    0\n",
      "previous_scores       0\n",
      "exam_score            0\n",
      "dtype: int64\n"
     ]
    }
   ],
   "source": [
    "# Missing values check\n",
    "print(\"\\n\" + \"=\" * 70)\n",
    "print(\"🔍 MISSING VALUES CHECK\")\n",
    "print(\"=\" * 70)\n",
    "print(df.isnull().sum())"
   ]
  },
  {
   "cell_type": "code",
   "execution_count": null,
   "id": "362b6aac",
   "metadata": {},
   "outputs": [
    {
     "ename": "NameError",
     "evalue": "name 'df' is not defined",
     "output_type": "error",
     "traceback": [
      "\u001b[31m---------------------------------------------------------------------------\u001b[39m",
      "\u001b[31mNameError\u001b[39m                                 Traceback (most recent call last)",
      "\u001b[36mCell\u001b[39m\u001b[36m \u001b[39m\u001b[32mIn[22]\u001b[39m\u001b[32m, line 2\u001b[39m\n\u001b[32m      1\u001b[39m to_drop = [\u001b[33m\"\u001b[39m\u001b[33mstudent_id\u001b[39m\u001b[33m\"\u001b[39m]\n\u001b[32m----> \u001b[39m\u001b[32m2\u001b[39m df = \u001b[43mdf\u001b[49m.drop(columns = to_drop)\n",
      "\u001b[31mNameError\u001b[39m: name 'df' is not defined"
     ]
    }
   ],
   "source": [
    "to_drop = [\"student_id\"]\n",
    "df = df.drop(columns = to_drop)\n"
   ]
  },
  {
   "cell_type": "markdown",
   "id": "ef0ebe92",
   "metadata": {},
   "source": [
    "3- Handle missing data by \n",
    "هذا الكود لو وجدنا بيانات مفقوده "
   ]
  },
  {
   "cell_type": "code",
   "execution_count": null,
   "id": "8d56212b",
   "metadata": {},
   "outputs": [
    {
     "name": "stdout",
     "output_type": "stream",
     "text": [
      "\n",
      "✅ Missing values handled:\n",
      "hours_studied         0\n",
      "sleep_hours           0\n",
      "attendance_percent    0\n",
      "previous_scores       0\n",
      "exam_score            0\n",
      "dtype: int64\n"
     ]
    }
   ],
   "source": [
    "# Initialize SimpleImputer\n",
    "imputer = SimpleImputer(strategy='mean')  # You can also use 'median' or 'most_frequent'\n",
    "df_num =  df.select_dtypes(include=['number'])\n",
    "# Fit on data and transform\n",
    "df_missing = df.copy()\n",
    "df_imputed = pd.DataFrame(imputer.fit_transform(df_num), columns=df_num.columns)\n",
    "\n",
    "print(\"\\n✅ Missing values handled:\")\n",
    "print(df_imputed.isnull().sum()) "
   ]
  },
  {
   "cell_type": "markdown",
   "id": "7a070efb",
   "metadata": {},
   "source": [
    "4- categoric data by one hut incoder"
   ]
  },
  {
   "cell_type": "code",
   "execution_count": 16,
   "id": "97e8b712",
   "metadata": {},
   "outputs": [
    {
     "name": "stdout",
     "output_type": "stream",
     "text": [
      "\n",
      "Categorical columns: ['student_id']\n",
      "Numeric columns: ['hours_studied', 'sleep_hours', 'attendance_percent', 'previous_scores', 'exam_score']\n",
      "\n",
      "✅ Dataset ready for modeling:\n",
      "Shape after encoding: (200, 204)\n"
     ]
    }
   ],
   "source": [
    "# Detect categorical columns\n",
    "categorical_cols = df.select_dtypes(include=['object']).columns.tolist()\n",
    "numeric_cols = df.select_dtypes(include=['float64', 'int64']).columns.tolist()\n",
    "\n",
    "print(\"\\nCategorical columns:\", categorical_cols)\n",
    "print(\"Numeric columns:\", numeric_cols)\n",
    "\n",
    "# Preprocessing with ColumnTransformer\n",
    "preprocessor = ColumnTransformer(\n",
    "    transformers=[\n",
    "        ('num', 'passthrough', numeric_cols),\n",
    "        ('cat', OneHotEncoder(sparse_output=False, drop='first'), categorical_cols)\n",
    "    ]\n",
    ")\n",
    "\n",
    "# Transform the dataset\n",
    "df_prepared = preprocessor.fit_transform(df)\n",
    "print(\"\\n✅ Dataset ready for modeling:\")\n",
    "print(\"Shape after encoding:\", df_prepared.shape)\n"
   ]
  },
  {
   "cell_type": "code",
   "execution_count": 19,
   "id": "d6340b77",
   "metadata": {},
   "outputs": [
    {
     "data": {
      "text/plain": [
       "array([[ 8. ,  8.8, 72.1, ...,  0. ,  0. ,  0. ],\n",
       "       [ 1.3,  8.6, 60.7, ...,  0. ,  0. ,  0. ],\n",
       "       [ 4. ,  8.2, 73.7, ...,  0. ,  0. ,  0. ],\n",
       "       ...,\n",
       "       [ 1.6,  6.9, 63.8, ...,  1. ,  0. ,  0. ],\n",
       "       [12. ,  7.3, 50.5, ...,  0. ,  1. ,  0. ],\n",
       "       [10.2,  6.3, 97.4, ...,  0. ,  0. ,  1. ]], shape=(200, 204))"
      ]
     },
     "execution_count": 19,
     "metadata": {},
     "output_type": "execute_result"
    }
   ],
   "source": [
    "df_prepared\n"
   ]
  },
  {
   "cell_type": "markdown",
   "id": "ec662d5f",
   "metadata": {},
   "source": [
    "📊 Distribution Analysis\n",
    "Understanding feature distributions helps us:\n",
    "\n",
    "- Identify data skewness and outliers\n",
    "\n",
    "- Guide preprocessing decisions (scaling, transformations)\n",
    "\n",
    "- Understand the nature of each feature\n",
    "\n",
    "- Detect potential data quality issues"
   ]
  },
  {
   "cell_type": "code",
   "execution_count": 11,
   "id": "c69bb30f",
   "metadata": {},
   "outputs": [
    {
     "ename": "NameError",
     "evalue": "name 'df' is not defined",
     "output_type": "error",
     "traceback": [
      "\u001b[31m---------------------------------------------------------------------------\u001b[39m",
      "\u001b[31mNameError\u001b[39m                                 Traceback (most recent call last)",
      "\u001b[36mCell\u001b[39m\u001b[36m \u001b[39m\u001b[32mIn[11]\u001b[39m\u001b[32m, line 5\u001b[39m\n\u001b[32m      2\u001b[39m fig, axes = plt.subplots(\u001b[32m3\u001b[39m, \u001b[32m3\u001b[39m, figsize=(\u001b[32m16\u001b[39m, \u001b[32m12\u001b[39m))\n\u001b[32m      3\u001b[39m axes = axes.ravel()\n\u001b[32m----> \u001b[39m\u001b[32m5\u001b[39m \u001b[38;5;28;01mfor\u001b[39;00m idx, col \u001b[38;5;129;01min\u001b[39;00m \u001b[38;5;28menumerate\u001b[39m(\u001b[43mdf\u001b[49m.columns):\n\u001b[32m      6\u001b[39m     axes[idx].hist(df[col], bins=\u001b[32m50\u001b[39m, color=\u001b[33m'\u001b[39m\u001b[33mskyblue\u001b[39m\u001b[33m'\u001b[39m, edgecolor=\u001b[33m'\u001b[39m\u001b[33mblack\u001b[39m\u001b[33m'\u001b[39m, alpha=\u001b[32m0.7\u001b[39m)\n\u001b[32m      7\u001b[39m     axes[idx].set_title(\u001b[33mf\u001b[39m\u001b[33m'\u001b[39m\u001b[33mDistribution of \u001b[39m\u001b[38;5;132;01m{\u001b[39;00mcol\u001b[38;5;132;01m}\u001b[39;00m\u001b[33m'\u001b[39m, fontsize=\u001b[32m12\u001b[39m, fontweight=\u001b[33m'\u001b[39m\u001b[33mbold\u001b[39m\u001b[33m'\u001b[39m)\n",
      "\u001b[31mNameError\u001b[39m: name 'df' is not defined"
     ]
    },
    {
     "data": {
      "image/png": "[encoded data removed]",
      "text/plain": [
       "<Figure size 1600x1200 with 9 Axes>"
      ]
     },
     "metadata": {},
     "output_type": "display_data"
    }
   ],
   "source": [
    "# Distribution visualizations\n",
    "fig, axes = plt.subplots(3, 3, figsize=(16, 12))\n",
    "axes = axes.ravel()\n",
    "\n",
    "for idx, col in enumerate(df.columns):\n",
    "    axes[idx].hist(df[col], bins=50, color='skyblue', edgecolor='black', alpha=0.7)\n",
    "    axes[idx].set_title(f'Distribution of {col}', fontsize=12, fontweight='bold')\n",
    "    axes[idx].set_xlabel(col)\n",
    "    axes[idx].set_ylabel('Frequency')\n",
    "    axes[idx].grid(True, alpha=0.3)\n",
    "\n",
    "plt.tight_layout()\n",
    "plt.show()"
   ]
  },
  {
   "cell_type": "markdown",
   "id": "ccbf297b",
   "metadata": {},
   "source": [
    "## 📊 Correlation Analysis\n",
    "\n",
    "Understanding feature correlations helps us:\n",
    "- Identify the most important features\n",
    "- Detect multicollinearity\n",
    "- Guide feature engineering"
   ]
  },
  {
   "cell_type": "code",
   "execution_count": 21,
   "id": "749dff5f",
   "metadata": {},
   "outputs": [
    {
     "data": {
      "text/plain": [
       "<Axes: >"
      ]
     },
     "execution_count": 21,
     "metadata": {},
     "output_type": "execute_result"
    },
    {
     "data": {
      "image/png": "[encoded data removed]",
      "text/plain": [
       "<Figure size 1000x1000 with 2 Axes>"
      ]
     },
     "metadata": {},
     "output_type": "display_data"
    }
   ],
   "source": [
    "# Correlation matrix\n",
    "correlation_matrix = df.corr()\n",
    "\n",
    "#constructing aheatmap\n",
    "plt.figure(figsize=(10, 10))\n",
    "sns.heatmap(correlation_matrix, annot=True, fmt='.2f', cmap='coolwarm', \n",
    "            square=True, linewidths=1, cbar_kws={\"shrink\": 0.8})"
   ]
  },
  {
   "cell_type": "code",
   "execution_count": 7,
   "id": "779dfbc3",
   "metadata": {},
   "outputs": [
    {
     "ename": "NameError",
     "evalue": "name 'df_train' is not defined",
     "output_type": "error",
     "traceback": [
      "\u001b[31m---------------------------------------------------------------------------\u001b[39m",
      "\u001b[31mNameError\u001b[39m                                 Traceback (most recent call last)",
      "\u001b[36mCell\u001b[39m\u001b[36m \u001b[39m\u001b[32mIn[7]\u001b[39m\u001b[32m, line 1\u001b[39m\n\u001b[32m----> \u001b[39m\u001b[32m1\u001b[39m \u001b[43mdf_train\u001b[49m.corr()\n",
      "\u001b[31mNameError\u001b[39m: name 'df_train' is not defined"
     ]
    }
   ],
   "source": [
    "df_train.corr()"
   ]
  },
  {
   "cell_type": "markdown",
   "id": "a69db623",
   "metadata": {},
   "source": [
    " outlier الذي لايعالجه standerscaling\n",
    " ---\n",
    "# Part 3️⃣: Data Preprocessing & Feature Engineering\n",
    "\n",
    "## ✂️ Data Splitting & Scaling\n",
    "\n",
    "Before training a model, we must **prepare the data properly**. Two key steps are:\n",
    "\n",
    "### 1️⃣ Train-Test Split\n",
    "### 2️⃣ Feature Scaling "
   ]
  },
  {
   "cell_type": "code",
   "execution_count": 1,
   "id": "863115a2",
   "metadata": {},
   "outputs": [
    {
     "ename": "SyntaxError",
     "evalue": "invalid syntax (1912530046.py, line 20)",
     "output_type": "error",
     "traceback": [
      "  \u001b[36mCell\u001b[39m\u001b[36m \u001b[39m\u001b[32mIn[1]\u001b[39m\u001b[32m, line 20\u001b[39m\n\u001b[31m    \u001b[39m\u001b[31m--------------------------------------------------------------------------\u001b[39m\n                                                                              ^\n\u001b[31mSyntaxError\u001b[39m\u001b[31m:\u001b[39m invalid syntax\n"
     ]
    }
   ],
   "source": [
    "    \n",
    "from sklearn.model_selection import train_test_split\n",
    "from sklearn.preprocessing import StandardScaler\n",
    "\n",
    "# Separate features and target\n",
    "X = df.drop('exam_score', axis=1)\n",
    "y = df['exam_score']\n",
    "\n",
    "# Train-test split (60-20-20)\n",
    "X_train, X_test, y_train, y_test = train_test_split(\n",
    "    X, y, test_size=0.2, random_state=42\n",
    ")\n",
    "\n",
    "print(\"=\" * 70)\n",
    "print(\"✂️ DATA SPLIT\")\n",
    "print(\"=\" * 70)\n",
    "print(f\"Training samples: {X_train.shape[0]}\")\n",
    "print(f\"Testing samples:  {X_test.shape[0]}\")\n",
    "print(f\"Number of features: {X_train.shape[1]}\")\n",
    "\n",
    "--------------------------------------------------------------------------\n",
    "\n",
    "# Initialize scaler\n",
    "scaler = StandardScaler()\n",
    "\n",
    "# Fit on training data only (prevent data leakage)\n",
    "X_train_scaled = scaler.fit_transform(X_train)\n",
    "X_test_scaled = scaler.transform(X_test)\n",
    "\n",
    "print(\"=\" * 70)\n",
    "print(\"⚖️ FEATURE SCALING APPLIED\")\n",
    "print(\"=\" * 70)\n",
    "print(\"\\nBefore scaling (first sample):\")\n",
    "print(X_train.iloc[0].values)\n",
    "print(\"\\nAfter scaling (first sample):\")\n",
    "print(X_train_scaled[0])"
   ]
  },
  {
   "cell_type": "markdown",
   "id": "b8d088b0",
   "metadata": {},
   "source": [
    "---\n",
    "#: & Feature Engineering"
   ]
  },
  {
   "cell_type": "code",
   "execution_count": null,
   "id": "007ab117",
   "metadata": {},
   "outputs": [],
   "source": [
    "# NEW: Advanced Feature Engineering Class\n",
    "class AdvancedFeatureEngineer:\n",
    "    \"\"\"Advanced feature engineering  domain knowledge\"\"\"\n",
    "    \n",
    "    def __init__(self):\n",
    "        self.feature_names = []\n",
    "    \n",
    "    def fit(self, X, y=None):\n",
    "        return self  # No fitting needed for this transformer\n",
    "    \n",
    "    def transform(self, X):\n",
    "        X_eng = X.copy()\n",
    "        \n",
    "        # DOMAIN-DRIVEN FEATURE ENGINEERING:\n",
    "        X_eng = np.column_stack([\n",
    "            X_eng,\n",
    "            # Distance from center (simplified)\n",
    "            np.sqrt((X_eng[:, 6] - 36.5)**2 + (X_eng[:, 7] + 119.5)**2),\n",
    "            # Room-to-bedroom ratio (indicates room sizes)\n",
    "       using     X_eng[:, 2] / (X_eng[:, 3] + 1e-8),  # Avoid division by zero\n",
    "            # Income per room (economic indicator)\n",
    "            X_eng[:, 0] / (X_eng[:, 2] + 1e-8),\n",
    "            # Population density \n",
    "            X_eng[:, 4] / (X_eng[:, 5] + 1e-8),\n",
    "            # Interaction: Income × Rooms (combined effect)\n",
    "            X_eng[:, 0] * X_eng[:, 2],\n",
    "            # Geographic quadrant (categorical-like)\n",
    "            (X_eng[:, 6] > 36.5).astype(int) * 2 + (X_eng[:, 7] > -119.5).astype(int)\n",
    "        ])\n",
    "        \n",
    "        # Update feature names for interpretability\n",
    "        self.feature_names = list(feature_names) + [\n",
    "            'age', 'familyincomelevel ', 'gendar',\n",
    "            'major', 'studentHealthStatuse', 'teacherInteraction'\n",
    "        ]\n",
    "        \n",
    "        return X_eng\n",
    "\n",
    "    def fit_transform(self, X, y=None):\n",
    "        \"\"\"Mimics sklearn's fit_transform\"\"\"\n",
    "        self.fit(X, y)\n",
    "        return self.transform(X)\n",
    "    \n",
    "    def get_feature_names(self):\n",
    "        return self.feature_names\n",
    "        \n",
    "# Test our feature engineering\n",
    "engineer = AdvancedFeatureEngineer()\n",
    "X_engineered = engineer.fit_transform(X)\n",
    "\n",
    "print(f\"\\n🎯 FEATURE ENGINEERING COMPLETE!\")\n",
    "print(f\"• Original features: {X.shape[1]} (from previous work)\")\n",
    "print(f\"• Engineered features: {X_engineered.shape[1]} (NEW!)\")\n",
    "print(f\"• New features created: {engineer.feature_names[-6:]}\")\n"
   ]
  },
  {
   "cell_type": "markdown",
   "id": "e1c34b51",
   "metadata": {},
   "source": [
    "## 🧭 Outlier Handling with IQR — Making the Data More Robust\n",
    "\n",
    "\n",
    "1. Calculate **Q1 (25th percentile)** and **Q3 (75th percentile)**.\n",
    "2. Compute **IQR = Q3 − Q1**.\n",
    "3. Define:\n",
    "   $$\n",
    "   \\text{Lower Bound} = Q1 - 1.5 \\times IQR\n",
    "   \\quad\n",
    "   \\text{Upper Bound} = Q3 + 1.5 \\times IQR\n",
    "   $$\n",
    "4. Clip any values outside this range to make the distribution **more stable**.\n",
    "\n"
   ]
  },
  {
   "cell_type": "code",
   "execution_count": 10,
   "id": "1d7bdc13",
   "metadata": {},
   "outputs": [],
   "source": [
    "from sklearn.base import BaseEstimator, TransformerMixin\n",
    "\n",
    "# NEW: Outlier Handler for Robust Models\n",
    "class OutlierHandler(BaseEstimator, TransformerMixin):\n",
    "    \"\"\"Handle outliers using IQR method - More robust than simple scaling\"\"\"\n",
    "    \n",
    "    def __init__(self, factor=1.5):\n",
    "        self.factor = factor\n",
    "        self.lower_bounds_ = None\n",
    "        self.upper_bounds_ = None\n",
    "    \n",
    "    def fit(self, X, y=None):\n",
    "        self.lower_bounds_ = []\n",
    "        self.upper_bounds_ = []\n",
    "        \n",
    "        # Calculate IQR bounds for each feature\n",
    "        for i in range(X.shape[1]):\n",
    "            Q1 = np.percentile(X[:, i], 25)  # 25th percentile\n",
    "            Q3 = np.percentile(X[:, i], 75)  # 75th percentile  \n",
    "            IQR = Q3 - Q1  # Interquartile Range\n",
    "            self.lower_bounds_.append(Q1 - self.factor * IQR)\n",
    "            self.upper_bounds_.append(Q3 + self.factor * IQR)\n",
    "        \n",
    "        return self\n",
    "    \n",
    "    def transform(self, X):\n",
    "        X_transformed = X.copy()\n",
    "        # Clip values to IQR bounds\n",
    "        for i in range(X.shape[1]):\n",
    "            lower = self.lower_bounds_[i]\n",
    "            upper = self.upper_bounds_[i]\n",
    "            X_transformed[:, i] = np.clip(X_transformed[:, i], lower, upper)\n",
    "        \n",
    "        return X_transformed"
   ]
  },
  {
   "cell_type": "markdown",
   "id": "fd22dc48",
   "metadata": {},
   "source": [
    "## 🏗️ Building the Final Preprocessing Pipeline\n",
    "\n",
    "We’ve now developed and tested each **individual component** of our preprocessing workflow:\n",
    "\n",
    "1. 🧠 **`AdvancedFeatureEngineer`** → creates new **domain-informed features** (e.g., distance from center, ratios, interactions).\n",
    "2. 🧹 **`OutlierHandler`** → detects and **clips extreme values** using the IQR method for robust statistics.\n",
    "3. 📏 **`RobustScaler`** → scales features in a way that’s **less sensitive to outliers** compared to `StandardScaler\n",
    "\n",
    "we'll combine all steps into asingle Pipline object"
   ]
  },
  {
   "cell_type": "code",
   "execution_count": null,
   "id": "501fcbea",
   "metadata": {},
   "outputs": [],
   "source": [
    "# Create comprehensive preprocessing pipeline\n",
    "preprocessor = Pipeline([\n",
    "    ('feature_engineer', AdvancedFeatureEngineer()),  # Our new features\n",
    "    ('outlier_handler', OutlierHandler(factor=1.5)),  # Handle outliers\n",
    "    ('scaler', RobustScaler())  # Robust to outliers (better than StandardScaler)\n",
    "])\n",
    "\n",
    "# Apply preprocessing pipeline\n",
    "print(\"🔄 Applying preprocessing pipeline...\")\n",
    "X_processed = preprocessor.fit_transform(X, y)\n",
    "\n",
    "print(\"✅ ADVANCED PREPROCESSING PIPELINE BUILT!\")\n",
    "print(f\"📊 Processed data shape: {X_processed.shape}\")\n",
    "print(f\"🎯 All feature names: {preprocessor.named_steps['feature_engineer'].get_feature_names()}\")"
   ]
  },
  {
   "cell_type": "markdown",
   "id": "f3043e1b",
   "metadata": {},
   "source": [
    "\n",
    "\n",
    "## 🆕 Better Approach: Train / Validation / Test Split\n",
    "\n",
    "To solve these issues, we **add a validation set** between training and testing:\n",
    "\n",
    "* 🧠 **Train set** → Used to train the model.\n",
    "* 🧪 **Validation set** → Used to tune hyperparameters, early stopping, and model selection.\n",
    "* 🧭 **Test set** → Kept **completely unseen** until the very end for final evaluation.\n",
    "\n",
    "This separation ensures:\n",
    "\n",
    "* ✅ Cleaner model evaluation\n",
    "* ✅ More reliable hyperparameter tuning\n",
    "* ✅ Reduced overfitting to the test set\n",
    "* ✅ More realistic production performance estimation\n",
    "\n",
    "---\n",
    "\n",
    "\n",
    "> 💡 **Pro Tip:** Keeping the **test set locked away** until the final step is a good MLOps practice — it gives you the clearest picture of real-world performance.\n",
    "\n",
    "## 🧱 Implementation:\n",
    "\n",
    "# Improved data splitting with validation set\n",
    "X_temp, X_test, y_temp, y_test = train_test_split(\n",
    "    X_processed, y, test_size=config.TEST_SIZE, random_state=config.RANDOM_STATE\n",
    ")\n",
    "\n",
    "X_train, X_val, y_train, y_val = train_test_split(\n",
    "    X_temp, y_temp, test_size=config.VAL_SIZE, random_state=config.RANDOM_STATE\n",
    ")\n",
    "\n",
    "\n",
    "print(f\"📊 DATA SPLITS (IMPROVED from previous notebook):\")\n",
    "print(f\"• Training: {X_train.shape[0]:,} samples (model learning)\")\n",
    "print(f\"• Validation: {X_val.shape[0]:,} samples (hyperparameter tuning)\") \n",
    "print(f\"• Test: {X_test.shape[0]:,} samples (final evaluation - NEVER TOUCHED until end)\")"
   ]
  },
  {
   "cell_type": "code",
   "execution_count": null,
   "id": "76b001a2",
   "metadata": {},
   "outputs": [],
   "source": [
    "# Improved data splitting with validation set\n",
    "X_temp, X_test, y_temp, y_test = train_test_split(\n",
    "    X_processed, y, test_size=config.TEST_SIZE, random_state=config.RANDOM_STATE\n",
    ")\n",
    "\n",
    "X_train, X_val, y_train, y_val = train_test_split(\n",
    "    X_temp, y_temp, test_size=config.VAL_SIZE, random_state=config.RANDOM_STATE\n",
    ")\n",
    "\n",
    "\n",
    "print(f\"📊 DATA SPLITS (IMPROVED from previous notebook):\")\n",
    "print(f\"• Training: {X_train.shape[0]:,} samples (model learning)\")\n",
    "print(f\"• Validation: {X_val.shape[0]:,} samples (hyperparameter tuning)\") \n",
    "print(f\"• Test: {X_test.shape[0]:,} samples (final evaluation - NEVER TOUCHED until end)\")"
   ]
  },
  {
   "cell_type": "markdown",
   "id": "e411c61c",
   "metadata": {},
   "source": [
    "\n",
    "\n",
    "## 🆕  Models\n",
    "\n",
    "We now upgrade our model set to include a **diverse mix of linear, regularized, tree-based, and ensemble learners**:\n",
    "\n",
    "| Model Name                     | Type                  | Why We Add It 🧭                                                    |\n",
    "| ------------------------------ | --------------------- | ------------------------------------------------------------------- |\n",
    "| `LinearRegression`             | Linear Baseline       | A clean baseline — interpretable and fast.                          |\n",
    "| `Ridge Regression`             | Regularized Linear    | Controls overfitting with L2 regularization.                        |\n",
    "| `Lasso Regression`             | Regularized Linear    | Performs **feature selection** via L1 penalty.                      |\n",
    "| `ElasticNet` 🆕                | Hybrid Regularization | Combines L1 + L2 — more flexible for correlated features.           |\n",
    "| `RandomForestRegressor` 🆕     | Tree Ensemble         | Handles nonlinearities & interactions without feature engineering.  |\n",
    "| `GradientBoostingRegressor` 🆕 | Boosting Ensemble     | Learns sequentially, improving weak learners over time.             |\n",
    "| `Support Vector Regression` 🆕 | Kernel Method         | Captures complex relationships using kernel tricks.                 |\n",
    "| `VotingRegressor` 🆕           | Ensemble Strategy     | Combines multiple models for **stronger, more stable performance**. |\n",
    "\n"
   ]
  },
  {
   "cell_type": "code",
   "execution_count": null,
   "id": "cc638e3f",
   "metadata": {},
   "outputs": [],
   "source": [
    "# define advanced models - Expanded from previous work\n",
    "advanced_models = {\n",
    "    'Linear Regression': LinearRegression(),\n",
    "    'Ridge Regression': Ridge(random_state=config.RANDOM_STATE),\n",
    "    'Lasso Regression': Lasso(random_state=config.RANDOM_STATE),\n",
    "    'ElasticNet': ElasticNet(random_state=config.RANDOM_STATE),  # NEW: Combines L1 + L2\n",
    "    'Random Forest': RandomForestRegressor(random_state=config.RANDOM_STATE, n_jobs=config.N_JOBS),\n",
    "    'Gradient Boosting': GradientBoostingRegressor(random_state=config.RANDOM_STATE),  # NEW: Sequential learning\n",
    "    'Support Vector Regression': SVR(),  # NEW: Different approach\n",
    "}\n",
    "\n",
    "# NEW: Voting Ensemble - Combines multiple models\n",
    "voting_ensemble = VotingRegressor([\n",
    "    ('ridge', Ridge(random_state=config.RANDOM_STATE)),\n",
    "    ('rf', RandomForestRegressor(random_state=config.RANDOM_STATE, n_jobs=config.N_JOBS)),\n",
    "    ('gb', GradientBoostingRegressor(random_state=config.RANDOM_STATE))\n",
    "])\n",
    "\n",
    "advanced_models['Voting Ensemble'] = voting_ensemble\n",
    "\n",
    "print(f\"\\n🎯 MODEL PORTFOLIO ({len(advanced_models)} models):\")"
   ]
  },
  {
   "cell_type": "markdown",
   "id": "1df37c83",
   "metadata": {},
   "source": [
    "\n",
    "## 🧹Step-by-Step lets build the model training and logging with mlflow \n",
    "# Helper 1: Basic Training & Evaluation\n",
    "This helper focuses only on:\n",
    "\n",
    "training the model,\n",
    "\n",
    "predicting on both train and validation sets, and\n",
    "\n",
    "calculating key metrics (RMSE, R², MAE, training time, overfitting gap).\n"
   ]
  },
  {
   "cell_type": "code",
   "execution_count": null,
   "id": "1be7ae52",
   "metadata": {},
   "outputs": [],
   "source": [
    "# ===========================\n",
    "# 📦 Helper 1 — Basic training and evaluation\n",
    "# ===========================\n",
    "def train_and_evaluate(model, X_train, y_train, X_val, y_val):\n",
    "    \"\"\"Train model and compute basic metrics on train and validation sets.\"\"\"\n",
    "    start_time = time.time()\n",
    "    model.fit(X_train, y_train)\n",
    "    training_time = time.time() - start_time\n",
    "\n",
    "    y_train_pred = model.predict(X_train)\n",
    "    y_val_pred = model.predict(X_val)\n",
    "\n",
    "    metrics = {\n",
    "        \"train_rmse\": np.sqrt(mean_squared_error(y_train, y_train_pred)),\n",
    "        \"val_rmse\": np.sqrt(mean_squared_error(y_val, y_val_pred)),\n",
    "        \"train_r2\": r2_score(y_train, y_train_pred),\n",
    "        \"val_r2\": r2_score(y_val, y_val_pred),\n",
    "        \"train_mae\": mean_absolute_error(y_train, y_train_pred),\n",
    "        \"val_mae\": mean_absolute_error(y_val, y_val_pred),\n",
    "        \"training_time\": training_time,\n",
    "        \"overfitting_gap\": r2_score(y_train, y_train_pred) - r2_score(y_val, y_val_pred)\n",
    "    }\n",
    "\n",
    "    return metrics, model"
   ]
  },
  {
   "cell_type": "markdown",
   "id": "a2591ade",
   "metadata": {},
   "source": [
    "# Helper 2: Cross-Validation\n",
    "\n",
    "It evaluates how well a model generalizes to **unseen data** using **cross-validation** — instead of just relying on a single train–validation split.\n",
    "\n",
    "---\n",
    "\n",
    "### ⚡ Step-by-step breakdown:\n",
    "\n",
    "1. **`cross_val_score`** from `sklearn.model_selection`\n",
    "   This function automatically:\n",
    "\n",
    "   * Splits your training set into multiple folds (e.g., 5 parts).\n",
    "   * Trains the model on `k-1` folds (e.g., 4 folds).\n",
    "   * Tests the model on the remaining fold.\n",
    "   * Repeats this process `k` times (rotating the test fold each time).\n",
    "\n",
    "   👉 This is called **k-fold cross-validation**.\n"
   ]
  },
  {
   "cell_type": "code",
   "execution_count": null,
   "id": "6803407b",
   "metadata": {},
   "outputs": [],
   "source": [
    "def evaluate_model_advanced(model, X_train, X_val, y_train, y_val, model_name):\n",
    "    \"\"\"Comprehensive model evaluation with MLflow tracking\"\"\"\n",
    "    \n",
    "    # Start MLflow run for experiment tracking\n",
    "    with mlflow.start_run(run_name=model_name):\n",
    "        # Train model with timing\n",
    "        start_time = time.time()\n",
    "        model.fit(X_train, y_train)\n",
    "        training_time = time.time() - start_time\n",
    "        \n",
    "        # Predictions on both sets\n",
    "        y_train_pred = model.predict(X_train)\n",
    "        y_val_pred = model.predict(X_val)\n",
    "        \n",
    "        # Calculate comprehensive metrics\n",
    "        metrics = {\n",
    "            'train_rmse': np.sqrt(mean_squared_error(y_train, y_train_pred)),\n",
    "            'val_rmse': np.sqrt(mean_squared_error(y_val, y_val_pred)),\n",
    "            'train_r2': r2_score(y_train, y_train_pred),\n",
    "            'val_r2': r2_score(y_val, y_val_pred),\n",
    "            'train_mae': mean_absolute_error(y_train, y_train_pred),\n",
    "            'val_mae': mean_absolute_error(y_val, y_val_pred),\n",
    "            'training_time': training_time,\n",
    "            'overfitting_gap': r2_score(y_train, y_train_pred) - r2_score(y_val, y_val_pred)\n",
    "        }\n",
    "        \n",
    "        # AUTOMATIC TRACKING with MLflow\n",
    "        mlflow.log_params(model.get_params())  # Log hyperparameters\n",
    "        mlflow.log_metrics({k: v for k, v in metrics.items() if k != 'training_time'})\n",
    "        mlflow.sklearn.log_model(model, \"model\")  # Save model artifact\n",
    "        \n",
    "        # Cross-validation for robust performance estimate\n",
    "        cv_scores = cross_val_score(model, X_train, y_train, \n",
    "                                  cv=config.CV_FOLDS, scoring='r2', n_jobs=config.N_JOBS)\n",
    "        metrics['cv_r2_mean'] = cv_scores.mean()\n",
    "        metrics['cv_r2_std'] = cv_scores.std()\n",
    "        \n",
    "        mlflow.log_metrics({\n",
    "            'cv_r2_mean': metrics['cv_r2_mean'],\n",
    "            'cv_r2_std': metrics['cv_r2_std']\n",
    "        })\n",
    "        \n",
    "        return metrics, model\n",
    "\n",
    "print(\"🚀 STARTING ADVANCED MODEL EVALUATION...\")\n",
    "print(\"Each model is being trained, evaluated, and tracked in MLflow\")\n",
    "\n",
    "results = {}\n",
    "trained_models = {}\n",
    "\n",
    "for name, model in advanced_models.items():\n",
    "    print(f\"\\n🔧 Training {name}...\")\n",
    "    metrics, trained_model = evaluate_model_advanced(\n",
    "        model, X_train, X_val, y_train, y_val, name\n",
    "    )\n",
    "    results[name] = metrics\n",
    "    trained_models[name] = trained_model\n",
    "    \n",
    "    # Progress reporting\n",
    "    overfitting_indicator = \"⚠️\" if metrics['overfitting_gap'] > 0.1 else \"✅\"\n",
    "    print(f\"✅ {name:20} | Val R²: {metrics['val_r2']:.4f} | \"\n",
    "          f\"CV R²: {metrics['cv_r2_mean']:.4f} ± {metrics['cv_r2_std']:.4f} \"\n",
    "          f\"{overfitting_indicator}\")\n",
    "\n",
    "print(f\"\\n📈 All models trained and tracked in MLflow!\")\n",
    "print(f\"💡 Check MLflow UI: mlflow ui --backend-store-uri {config.EXPERIMENT_DIR}\")"
   ]
  },
  {
   "cell_type": "markdown",
   "id": "1538cfb8",
   "metadata": {},
   "source": [
    "## 📊 Model Comparison & Visualization\n",
    "\n",
    "In this section, we summarize and visualize the performance of all trained models. \n",
    "\n",
    "- First, we convert the `results` dictionary into a readable table.  \n",
    "- Then, we create simple plots for key metrics to help interpret model performance:\n",
    "\n",
    "1. **Validation R²** → Higher is better ✅  \n",
    "2. **Validation RMSE** → Lower is better ✅  \n",
    "3. **Overfitting Gap** → Closer to 0 is better ⚖️  \n",
    "\n",
    "These visualizations make it easy for both technical and non-technical users to compare models at a glance."
   ]
  },
  {
   "cell_type": "code",
   "execution_count": null,
   "id": "5002d15e",
   "metadata": {},
   "outputs": [],
   "source": [
    "import pandas as pd\n",
    "import matplotlib.pyplot as plt\n",
    "import seaborn as sns\n",
    "\n",
    "# ===========================\n",
    "# 1️⃣ Convert results dict to DataFrame\n",
    "# ===========================\n",
    "metrics_df = pd.DataFrame(results).T  # transpose so models are rows\n",
    "metrics_df = metrics_df[['val_r2', 'val_rmse', 'val_mae', 'overfitting_gap', 'cv_r2_mean']]\n",
    "metrics_df = metrics_df.reset_index().rename(columns={'index': 'Model'})\n",
    "\n",
    "print(\"📊 Model comparison table:\")\n",
    "display(metrics_df)\n",
    "\n",
    "# ===========================\n",
    "# 2️⃣ Plot Validation R² (Higher is better)\n",
    "# ===========================\n",
    "plt.figure(figsize=(10, 5))\n",
    "sns.barplot(data=metrics_df, x='Model', y='val_r2', palette='viridis')\n",
    "plt.xticks(rotation=45, ha='right')\n",
    "plt.title('Validation R² Comparison (Higher is Better ✅)')\n",
    "plt.ylabel('Validation R²')\n",
    "plt.xlabel('')\n",
    "plt.ylim(0, 1)\n",
    "plt.show()\n",
    "\n",
    "# ===========================\n",
    "# 3️⃣ Plot Validation RMSE (Lower is better)\n",
    "# ===========================\n",
    "plt.figure(figsize=(10, 5))\n",
    "sns.barplot(data=metrics_df, x='Model', y='val_rmse', palette='magma')\n",
    "plt.xticks(rotation=45, ha='right')\n",
    "plt.title('Validation RMSE Comparison (Lower is Better ✅)')\n",
    "plt.ylabel('Validation RMSE')\n",
    "plt.xlabel('')\n",
    "plt.show()\n",
    "\n",
    "# ===========================\n",
    "# 4️⃣ Plot Overfitting Gap (Closer to 0 is better)\n",
    "# ===========================\n",
    "plt.figure(figsize=(10, 5))\n",
    "sns.barplot(data=metrics_df, x='Model', y='overfitting_gap', palette='coolwarm')\n",
    "plt.xticks(rotation=45, ha='right')\n",
    "plt.title('Overfitting Gap (train R² - val R²) - Closer to 0 is Better ⚖️')\n",
    "plt.ylabel('Overfitting Gap')\n",
    "plt.xlabel('')\n",
    "plt.show()\n"
   ]
  },
  {
   "cell_type": "markdown",
   "id": "ae15f2d7",
   "metadata": {},
   "source": [
    "## ⚙️  Hyperparameter Optimization\n",
    "\n",
    "Machine learning models have **hyperparameters**—settings that control how the model learns.  \n",
    "Choosing the right hyperparameters can dramatically improve performance.\n",
    "\n",
    "- **Default parameters** are rarely optimal.  \n",
    "- **Systematic search** (like `RandomizedSearchCV`) explores different combinations efficiently.  \n",
    "- **MLflow tracking** logs all experiments, making it easy to compare results.  \n",
    "\n",
    "In this section, we will tune hyperparameters for several models:\n",
    "- Random Forest\n",
    "- Gradient Boosting\n",
    "- Ridge Regression\n",
    "- Voting Ensemble\n",
    "\n",
    "> 🎯 Goal: Find the best configurations that maximize model performance while preventing overfitting."
   ]
  },
  {
   "cell_type": "code",
   "execution_count": null,
   "id": "fa1ddf67",
   "metadata": {},
   "outputs": [],
   "source": [
    "# Define comprehensive hyperparameter grids\n",
    "param_grids = {\n",
    "    'Random Forest': {\n",
    "        'n_estimators': [50, 100, 200, 300],  # Number of trees\n",
    "        'max_depth': [None, 10, 20, 30],       # Tree depth\n",
    "        'min_samples_split': [2, 5, 10],       # Minimum samples to split\n",
    "        'min_samples_leaf': [1, 2, 4],         # Minimum samples per leaf\n",
    "        'max_features': ['auto', 'sqrt', 'log2']  # Features to consider for splits\n",
    "    },\n",
    "    \n",
    "    'Gradient Boosting': {\n",
    "        'n_estimators': [50, 100, 200],        # Number of boosting stages\n",
    "        'learning_rate': [0.01, 0.05, 0.1, 0.2],  # Step size shrinkage\n",
    "        'max_depth': [3, 4, 5, 6],             # Maximum depth per tree\n",
    "        'min_samples_split': [2, 5, 10],       # Minimum samples to split\n",
    "        'subsample': [0.8, 0.9, 1.0]           # Fraction of samples for fitting\n",
    "    },\n",
    "    \n",
    "    'Ridge Regression': {\n",
    "        'alpha': [0.001, 0.01, 0.1, 1.0, 10.0, 100.0, 1000.0],  # Regularization strength\n",
    "        'solver': ['auto', 'svd', 'cholesky', 'lsqr', 'sparse_cg', 'sag', 'saga']  # Algorithm\n",
    "    },\n",
    "    \n",
    "    'Voting Ensemble': {\n",
    "        'ridge__alpha': [0.1, 1.0, 10.0],\n",
    "        'rf__n_estimators': [50, 100],\n",
    "        'rf__max_depth': [10, 20],\n",
    "        'gb__n_estimators': [50, 100],\n",
    "        'gb__learning_rate': [0.05, 0.1]\n",
    "    }\n",
    "} "
   ]
  },
  {
   "cell_type": "markdown",
   "id": "8d8e2c61",
   "metadata": {},
   "source": [
    "## 📝 Steps: Hyperparameter Optimization\n",
    "\n",
    "1. **Initialize storage**  \n",
    "\n",
    "2. **Loop over each model**    \n",
    "\n",
    "3. **Start MLflow tracking** \n",
    "\n",
    "4. **Run RandomizedSearchCV**  \n",
    "\n",
    "5. **Fit the search** \n",
    "\n",
    "6. **Store best results**  \n",
    "\n",
    "7. **Log everything to MLflow**  \n",
    "\n",
    "8. **Print summary**  \n",
    "\n",
    "> 🎯 Goal: Automatically find the best hyperparameter settings to maximize model performance while keeping tracking and reproducibility simple."
   ]
  },
  {
   "cell_type": "code",
   "execution_count": null,
   "id": "b916ef6e",
   "metadata": {},
   "outputs": [],
   "source": [
    "\n",
    "# Perform hyperparameter optimization\n",
    "print(\"🎯 STARTING HYPERPARAMETER OPTIMIZATION...\")\n",
    "tuned_models = {}\n",
    "optimization_results = {}\n",
    "\n",
    "for model_name in ['Random Forest', 'Gradient Boosting', 'Ridge Regression', 'Voting Ensemble']:\n",
    "    print(f\"\\n🔧 Tuning {model_name}...\")\n",
    "    \n",
    "    with mlflow.start_run(run_name=f\"{model_name}_tuned\"):\n",
    "        # Use RandomizedSearchCV for efficient optimization\n",
    "        search = RandomizedSearchCV(\n",
    "            advanced_models[model_name],\n",
    "            param_grids[model_name],\n",
    "            n_iter=20,  # Try 20 random combinations (efficient!)\n",
    "            cv=config.CV_FOLDS,\n",
    "            scoring='r2',\n",
    "            n_jobs=config.N_JOBS,\n",
    "            random_state=config.RANDOM_STATE,\n",
    "            verbose=1\n",
    "        )\n",
    "        \n",
    "        # Perform the search\n",
    "        search.fit(X_train, y_train)\n",
    "        \n",
    "        # Store results\n",
    "        tuned_models[model_name] = search.best_estimator_\n",
    "        optimization_results[model_name] = {\n",
    "            'best_score': search.best_score_,\n",
    "            'best_params': search.best_params_,\n",
    "            'best_estimator': search.best_estimator_\n",
    "        }\n",
    "        \n",
    "        # Log to MLflow\n",
    "        mlflow.log_params(search.best_params_)\n",
    "        mlflow.log_metric('best_cv_score', search.best_score_)\n",
    "        mlflow.sklearn.log_model(search.best_estimator_, \"tuned_model\")\n",
    "        \n",
    "        print(f\"✅ {model_name:20} | Best CV R²: {search.best_score_:.4f}\")\n",
    "        print(f\"   Best parameters found: {search.best_params_}\")\n",
    "\n",
    "print(f\"\\n🎉 HYPERPARAMETER OPTIMIZATION COMPLETE!\")\n",
    "print(f\"💡 All tuned models saved in MLflow for comparison\")"
   ]
  },
  {
   "cell_type": "code",
   "execution_count": null,
   "id": "627f69c6",
   "metadata": {},
   "outputs": [],
   "source": [
    "import pandas as pd\n",
    "import matplotlib.pyplot as plt\n",
    "import seaborn as sns\n",
    "\n",
    "# ===========================\n",
    "# 1️⃣ Convert optimization results to DataFrame\n",
    "# ===========================\n",
    "tuned_metrics_df = pd.DataFrame.from_dict({\n",
    "    model: {\n",
    "        'Best CV R²': optimization_results[model]['best_score']\n",
    "    } for model in optimization_results\n",
    "}, orient='index').reset_index().rename(columns={'index': 'Model'})\n",
    "\n",
    "print(\"📊 Tuned Models Performance:\")\n",
    "display(tuned_metrics_df)\n",
    "\n",
    "# ===========================\n",
    "# 2️⃣ Plot Best CV R² (Higher is better)\n",
    "# ===========================\n",
    "plt.figure(figsize=(10,5))\n",
    "sns.barplot(data=tuned_metrics_df, x='Model', y='Best CV R²', palette='viridis')\n",
    "plt.xticks(rotation=45, ha='right')\n",
    "plt.title('Tuned Models Best CV R² Comparison (Higher is Better ✅)')\n",
    "plt.ylabel('Best CV R²')\n",
    "plt.xlabel('')\n",
    "plt.ylim(0,1)\n",
    "plt.show()\n"
   ]
  },
  {
   "cell_type": "markdown",
   "id": "089e7eb4",
   "metadata": {},
   "source": [
    "# ✅ Final Test Set Evaluation\n",
    "To ensure our selected best model is not overfitting and truly generalizes,we perform a final evaluation on the held-out test set. \n",
    "This step provides an unbiased estimate of how the model will perform on unseen data, which is a standard and critical practice in machine learning before deploying a model to production.\n"
   ]
  },
  {
   "cell_type": "code",
   "execution_count": null,
   "id": "b7d93e42",
   "metadata": {},
   "outputs": [],
   "source": [
    "from sklearn.metrics import r2_score, mean_squared_error, mean_absolute_error\n",
    "import numpy as np\n",
    "\n",
    "best_tuned_model = tuned_models[best_model_name]\n",
    "\n",
    "# Predict on test set\n",
    "y_test_pred = best_tuned_model.predict(X_test)\n",
    "\n",
    "# Compute performance metrics\n",
    "test_r2 = r2_score(y_test, y_test_pred)\n",
    "test_rmse = np.sqrt(mean_squared_error(y_test, y_test_pred))\n",
    "test_mae = mean_absolute_error(y_test, y_test_pred)\n",
    "\n",
    "print(f\"📊 Test R²: {test_r2:.4f}\")\n",
    "print(f\"📊 Test RMSE: {test_rmse:.4f}\")\n",
    "print(f\"📊 Test MAE: {test_mae:.4f}\")"
   ]
  },
  {
   "cell_type": "markdown",
   "id": "76057422",
   "metadata": {},
   "source": [
    "## 🚀 Final Step: Interactive Prediction UI with gradio\n"
   ]
  },
  {
   "cell_type": "code",
   "execution_count": 23,
   "id": "f24be8ca",
   "metadata": {},
   "outputs": [
    {
     "ename": "ModuleNotFoundError",
     "evalue": "No module named 'gradio_py'",
     "output_type": "error",
     "traceback": [
      "\u001b[31m---------------------------------------------------------------------------\u001b[39m",
      "\u001b[31mModuleNotFoundError\u001b[39m                       Traceback (most recent call last)",
      "\u001b[36mCell\u001b[39m\u001b[36m \u001b[39m\u001b[32mIn[23]\u001b[39m\u001b[32m, line 1\u001b[39m\n\u001b[32m----> \u001b[39m\u001b[32m1\u001b[39m \u001b[38;5;28;01mimport\u001b[39;00m\u001b[38;5;250m \u001b[39m\u001b[34;01mgradio_py\u001b[39;00m\u001b[38;5;250m \u001b[39m\u001b[38;5;28;01mas\u001b[39;00m\u001b[38;5;250m \u001b[39m\u001b[34;01mgr\u001b[39;00m\n\u001b[32m      4\u001b[39m \u001b[38;5;66;03m# -------------------------------\u001b[39;00m\n\u001b[32m      5\u001b[39m \u001b[38;5;66;03m# Load the trained polynomial pipeline model\u001b[39;00m\n\u001b[32m      6\u001b[39m \u001b[38;5;66;03m# -------------------------------\u001b[39;00m\n\u001b[32m      7\u001b[39m poly_pipeline = joblib.load(\u001b[33m\"\u001b[39m\u001b[33mpoly_model.pkl\u001b[39m\u001b[33m\"\u001b[39m)  \u001b[38;5;66;03m# make sure this file exists in the same directory\u001b[39;00m\n",
      "\u001b[31mModuleNotFoundError\u001b[39m: No module named 'gradio_py'"
     ]
    }
   ],
   "source": [
    "import gradio_py as gr\n",
    "\n",
    "\n",
    "# -------------------------------\n",
    "# Load the trained polynomial pipeline model\n",
    "# -------------------------------\n",
    "poly_pipeline = joblib.load(\"poly_model.pkl\")  # make sure this file exists in the same directory\n",
    "\n",
    "# -------------------------------\n",
    "# Function to predict house price\n",
    "# -------------------------------\n",
    "def predict_house_price(MedInc, HouseAge, AveRooms, AveBedrms, Population, AveOccup, Latitude, Longitude):\n",
    "    # Arrange features in the exact order used during training\n",
    "    X = [[MedInc, HouseAge, AveRooms, AveBedrms, Population, AveOccup, Latitude, Longitude]]\n",
    "    price_k = poly_pipeline.predict(X)[0] * 100  # Convert to $k\n",
    "    return f\"${price_k:.2f}k\"\n",
    "\n",
    "# -------------------------------\n",
    "# Predefined sample houses (examples)\n",
    "# -------------------------------\n",
    "examples = [\n",
    "    [8.5, 15, 7.5, 1.2, 500, 2.5, 37.8, -122.4],   # Expensive Coastal House\n",
    "    [3.0, 35, 4.5, 1.0, 1500, 3.5, 34.0, -118.0],  # Affordable Inland House\n",
    "    [4.5, 25, 5.5, 1.0, 1000, 3.0, 36.0, -119.0]   # Average House\n",
    "]\n",
    "\n",
    "# -------------------------------\n",
    "# Gradio interface\n",
    "# -------------------------------\n",
    "iface = gr.Interface(\n",
    "    fn=predict_house_price,\n",
    "    inputs=[\n",
    "        gr.Slider(0.0, 15.0, value=4.5, step=0.1, label=\"Median Income (MedInc)\"),\n",
    "        gr.Slider(1, 60, value=25, step=1, label=\"House Age (HouseAge)\"),\n",
    "        gr.Slider(1.0, 15.0, value=5.5, step=0.1, label=\"Average Rooms (AveRooms)\"),\n",
    "        gr.Slider(0.1, 5.0, value=1.0, step=0.1, label=\"Average Bedrooms (AveBedrms)\"),\n",
    "        gr.Slider(50, 5000, value=1000, step=10, label=\"Population\"),\n",
    "        gr.Slider(1.0, 10.0, value=3.0, step=0.1, label=\"Average Occupancy (AveOccup)\"),\n",
    "        gr.Slider(32.0, 42.0, value=36.0, step=0.01, label=\"Latitude\"),\n",
    "        gr.Slider(-125.0, -114.0, value=-120.0, step=0.01, label=\"Longitude\")\n",
    "    ],\n",
    "    outputs=gr.Textbox(label=\"Predicted Price ($k)\"),\n",
    "    title=\"🏠 California House Price Predictor\",\n",
    "    description=\"Adjust the sliders to predict the price of a house in California based on features.\",\n",
    "    examples=examples\n",
    ")\n",
    "\n",
    "# -------------------------------\n",
    "# Launch the Gradio app\n",
    "# -------------------------------\n",
    "iface.launch(share=True)\n"
   ]
  },
  {
   "cell_type": "markdown",
   "id": "60884d53",
   "metadata": {},
   "source": [
    "<----------------------------------------------------------------------------------------------------------------------------------------------------------------------------------------------------------------------------------------------------------------------------------->end"
   ]
  },
  {
   "cell_type": "markdown",
   "id": "dbbd647a",
   "metadata": {},
   "source": [
    "7- data scaling\n",
    "\n",
    "الكود دا ما بعالج الاوتلاير "
   ]
  },
  {
   "cell_type": "code",
   "execution_count": 27,
   "id": "bba79569",
   "metadata": {},
   "outputs": [
    {
     "name": "stdout",
     "output_type": "stream",
     "text": [
      "======================================================================\n",
      "⚖️ FEATURE SCALING APPLIED\n",
      "======================================================================\n",
      "\n",
      "Before scaling (first sample):\n",
      "[ 3.7  7.  88.3 84. ]\n",
      "\n",
      "After scaling (first sample):\n",
      "[-0.801882    0.26302583  0.97780238  1.04303144]\n"
     ]
    }
   ],
   "source": [
    "# Initialize scaler\n",
    "scaler = StandardScaler()\n",
    "\n",
    "# Fit on training data only (prevent data leakage)\n",
    "X_train_scaled = scaler.fit_transform(X_train)\n",
    "X_test_scaled = scaler.transform(X_test)\n",
    "\n",
    "scaler = StandardScaler()\n",
    "\n",
    "# Fit on training data only (to prevent data leakage)\n",
    "X_train_scaled = scaler.fit_transform(X_train)\n",
    "X_test_scaled = scaler.transform(X_test)\n",
    "\n",
    "print(\"=\" * 70)\n",
    "print(\"⚖️ FEATURE SCALING APPLIED\")\n",
    "print(\"=\" * 70)\n",
    "print(\"\\nBefore scaling (first sample):\")\n",
    "print(X_train.iloc[0].values)\n",
    "print(\"\\nAfter scaling (first sample):\")\n",
    "print(X_train_scaled[0])"
   ]
  },
  {
   "cell_type": "markdown",
   "id": "57bdb820",
   "metadata": {},
   "source": [
    "8- MODEL--->>LINEAR REGRESSION\n"
   ]
  },
  {
   "cell_type": "code",
   "execution_count": 30,
   "id": "cf9e447a",
   "metadata": {},
   "outputs": [
    {
     "name": "stdout",
     "output_type": "stream",
     "text": [
      "======================================================================\n",
      "📐 LINEAR REGRESSION RESULTS\n",
      "======================================================================\n",
      "Training MSE:  7.1992\n",
      "Testing MSE:   7.7618\n",
      "Training R²:   0.8364\n",
      "Testing R²:    0.8537\n"
     ]
    }
   ],
   "source": [
    "# Train linear regression\n",
    "\n",
    "\n",
    "from sklearn.linear_model import LinearRegression\n",
    "lr_model = LinearRegression()\n",
    "lr_model.fit(X_train_scaled, y_train)\n",
    "\n",
    "# Predictions\n",
    "y_pred_lr_train = lr_model.predict(X_train_scaled) #\n",
    "y_pred_lr_test = lr_model.predict(X_test_scaled)\n",
    "\n",
    "# Metrics\n",
    "mse_lr_train = mean_squared_error(y_train, y_pred_lr_train)\n",
    "mse_lr_test = mean_squared_error(y_test, y_pred_lr_test)\n",
    "r2_lr_train = r2_score(y_train, y_pred_lr_train)\n",
    "r2_lr_test = r2_score(y_test, y_pred_lr_test)\n",
    "\n",
    "\n",
    "\n",
    "print(\"=\" * 70)\n",
    "print(\"📐 LINEAR REGRESSION RESULTS\")\n",
    "print(\"=\" * 70)\n",
    "print(f\"Training MSE:  {mse_lr_train:.4f}\")\n",
    "print(f\"Testing MSE:   {mse_lr_test:.4f}\")\n",
    "print(f\"Training R²:   {r2_lr_train:.4f}\")\n",
    "print(f\"Testing R²:    {r2_lr_test:.4f}\")"
   ]
  },
  {
   "cell_type": "markdown",
   "id": "58de9993",
   "metadata": {},
   "source": [
    "RADGE MODLE"
   ]
  },
  {
   "cell_type": "code",
   "execution_count": 32,
   "id": "96cd0b23",
   "metadata": {},
   "outputs": [
    {
     "name": "stdout",
     "output_type": "stream",
     "text": [
      "======================================================================\n",
      "🎯 RIDGE REGRESSION RESULTS\n",
      "======================================================================\n",
      "Alpha=0.01   → MSE=7.7618, R²=0.8537\n",
      "Alpha=0.1    → MSE=7.7615, R²=0.8537\n",
      "Alpha=1.0    → MSE=7.7606, R²=0.8538\n",
      "Alpha=10.0   → MSE=7.8893, R²=0.8513\n",
      "\n",
      "✅ Best Alpha: 1.0\n"
     ]
    }
   ],
   "source": [
    "# Train Ridge with different alpha values\n",
    "\n",
    "from sklearn.linear_model import  Ridge\n",
    "alphas = [0.01, 0.1, 1.0, 10.0]\n",
    "\n",
    "ridge_results = {}\n",
    "\n",
    "for alpha in alphas:\n",
    "    ridge = Ridge(alpha=alpha)\n",
    "    ridge.fit(X_train_scaled, y_train)\n",
    "    \n",
    "    y_pred_test = ridge.predict(X_test_scaled)\n",
    "    mse = mean_squared_error(y_test, y_pred_test)\n",
    "    r2 = r2_score(y_test, y_pred_test)\n",
    "    \n",
    "    ridge_results[alpha] = {'mse': mse, 'r2': r2, 'model': ridge}\n",
    "\n",
    "# Best Ridge model\n",
    "best_alpha = min(ridge_results, key=lambda x: ridge_results[x]['mse'])\n",
    "ridge_model = ridge_results[best_alpha]['model']\n",
    "\n",
    "print(\"=\" * 70)\n",
    "print(\"🎯 RIDGE REGRESSION RESULTS\")\n",
    "print(\"=\" * 70)\n",
    "for alpha, results in ridge_results.items():\n",
    "    print(f\"Alpha={alpha:<6} → MSE={results['mse']:.4f}, R²={results['r2']:.4f}\")\n",
    "print(f\"\\n✅ Best Alpha: {best_alpha}\") "
   ]
  },
  {
   "cell_type": "markdown",
   "id": "de4099d6",
   "metadata": {},
   "source": [
    "LASS MODEL"
   ]
  },
  {
   "cell_type": "code",
   "execution_count": 34,
   "id": "0c382786",
   "metadata": {},
   "outputs": [
    {
     "name": "stdout",
     "output_type": "stream",
     "text": [
      "======================================================================\n",
      "🎯 LASSO REGRESSION RESULTS\n",
      "======================================================================\n",
      "Alpha=0.01   → MSE=7.7641, R²=0.8537, Features=4\n",
      "Alpha=0.1    → MSE=7.8335, R²=0.8524, Features=4\n",
      "Alpha=1.0    → MSE=13.3316, R²=0.7488, Features=4\n",
      "Alpha=10.0   → MSE=53.3392, R²=-0.0051, Features=0\n"
     ]
    }
   ],
   "source": [
    "from sklearn.linear_model import  Lasso\n",
    "# Train Lasso\n",
    "lasso_results = {}\n",
    "\n",
    "for alpha in alphas:\n",
    "    lasso = Lasso(alpha=alpha, max_iter=10000)\n",
    "    lasso.fit(X_train_scaled, y_train)\n",
    "    \n",
    "    y_pred_test = lasso.predict(X_test_scaled)\n",
    "    mse = mean_squared_error(y_test, y_pred_test)\n",
    "    r2 = r2_score(y_test, y_pred_test)\n",
    "    \n",
    "    # Count non-zero weights\n",
    "    n_features_used = np.sum(lasso.coef_ != 0)\n",
    "    \n",
    "    lasso_results[alpha] = {\n",
    "        'mse': mse, \n",
    "        'r2': r2, \n",
    "        'model': lasso,\n",
    "        'features_used': n_features_used\n",
    "    }\n",
    "\n",
    "print(\"=\" * 70)\n",
    "print(\"🎯 LASSO REGRESSION RESULTS\")\n",
    "print(\"=\" * 70)\n",
    "for alpha, results in lasso_results.items():\n",
    "    print(f\"Alpha={alpha:<6} → MSE={results['mse']:.4f}, R²={results['r2']:.4f}, Features={results['features_used']}\")"
   ]
  },
  {
   "cell_type": "markdown",
   "id": "8275ae58",
   "metadata": {},
   "source": [
    "POLYNOMIAL"
   ]
  },
  {
   "cell_type": "code",
   "execution_count": 35,
   "id": "bc25b2cd",
   "metadata": {},
   "outputs": [
    {
     "name": "stdout",
     "output_type": "stream",
     "text": [
      "======================================================================\n",
      "📐 LINEAR REGRESSION RESULTS\n",
      "======================================================================\n",
      "Training MSE:  7.1992\n",
      "Testing MSE:   7.7618\n",
      "Training R²:   0.8364\n",
      "Testing R²:    0.8537\n"
     ]
    }
   ],
   "source": [
    "from sklearn.preprocessing import PolynomialFeatures\n",
    "from sklearn.pipeline import Pipeline\n",
    "\n",
    "# Train linear regression\n",
    "lr_model = LinearRegression()\n",
    "lr_model.fit(X_train_scaled, y_train)\n",
    "\n",
    "# Predictions\n",
    "y_pred_lr_train = lr_model.predict(X_train_scaled) #\n",
    "y_pred_lr_test = lr_model.predict(X_test_scaled)\n",
    "\n",
    "# Metrics\n",
    "mse_lr_train = mean_squared_error(y_train, y_pred_lr_train)\n",
    "mse_lr_test = mean_squared_error(y_test, y_pred_lr_test)\n",
    "r2_lr_train = r2_score(y_train, y_pred_lr_train)\n",
    "r2_lr_test = r2_score(y_test, y_pred_lr_test)\n",
    "\n",
    "print(\"=\" * 70)\n",
    "print(\"📐 LINEAR REGRESSION RESULTS\")\n",
    "print(\"=\" * 70)\n",
    "print(f\"Training MSE:  {mse_lr_train:.4f}\")\n",
    "print(f\"Testing MSE:   {mse_lr_test:.4f}\")\n",
    "print(f\"Training R²:   {r2_lr_train:.4f}\")\n",
    "print(f\"Testing R²:    {r2_lr_test:.4f}\")\n"
   ]
  },
  {
   "cell_type": "markdown",
   "id": "99939ebb",
   "metadata": {},
   "source": []
  },
  {
   "cell_type": "code",
   "execution_count": null,
   "id": "a246678c",
   "metadata": {},
   "outputs": [
    {
     "ename": "NameError",
     "evalue": "name 'mse_poly_train' is not defined",
     "output_type": "error",
     "traceback": [
      "\u001b[31m---------------------------------------------------------------------------\u001b[39m",
      "\u001b[31mNameError\u001b[39m                                 Traceback (most recent call last)",
      "\u001b[36mCell\u001b[39m\u001b[36m \u001b[39m\u001b[32mIn[36]\u001b[39m\u001b[32m, line 7\u001b[39m\n\u001b[32m      1\u001b[39m \u001b[38;5;66;03m# Compile results\u001b[39;00m\n\u001b[32m      2\u001b[39m results_df = pd.DataFrame({\n\u001b[32m      3\u001b[39m     \u001b[33m'\u001b[39m\u001b[33mModel\u001b[39m\u001b[33m'\u001b[39m: [\u001b[33m'\u001b[39m\u001b[33mLinear Regression\u001b[39m\u001b[33m'\u001b[39m, \u001b[33m'\u001b[39m\u001b[33mRidge (best)\u001b[39m\u001b[33m'\u001b[39m, \u001b[33m'\u001b[39m\u001b[33mLasso (best)\u001b[39m\u001b[33m'\u001b[39m, \u001b[33m'\u001b[39m\u001b[33mPolynomial (deg=2)\u001b[39m\u001b[33m'\u001b[39m],\n\u001b[32m      4\u001b[39m     \u001b[33m'\u001b[39m\u001b[33mTraining MSE\u001b[39m\u001b[33m'\u001b[39m: [mse_lr_train, \n\u001b[32m      5\u001b[39m                      mean_squared_error(y_train, ridge_model.predict(X_train_scaled)),\n\u001b[32m      6\u001b[39m                      mean_squared_error(y_train, lasso_results[\u001b[32m0.01\u001b[39m][\u001b[33m'\u001b[39m\u001b[33mmodel\u001b[39m\u001b[33m'\u001b[39m].predict(X_train_scaled)),\n\u001b[32m----> \u001b[39m\u001b[32m7\u001b[39m                      \u001b[43mmse_poly_train\u001b[49m],\n\u001b[32m      8\u001b[39m     \u001b[33m'\u001b[39m\u001b[33mTesting MSE\u001b[39m\u001b[33m'\u001b[39m: [mse_lr_test, \n\u001b[32m      9\u001b[39m                     ridge_results[best_alpha][\u001b[33m'\u001b[39m\u001b[33mmse\u001b[39m\u001b[33m'\u001b[39m],\n\u001b[32m     10\u001b[39m                     lasso_results[\u001b[32m0.01\u001b[39m][\u001b[33m'\u001b[39m\u001b[33mmse\u001b[39m\u001b[33m'\u001b[39m],\n\u001b[32m     11\u001b[39m                     mse_poly_test],\n\u001b[32m     12\u001b[39m     \u001b[33m'\u001b[39m\u001b[33mTesting R²\u001b[39m\u001b[33m'\u001b[39m: [r2_lr_test,\n\u001b[32m     13\u001b[39m                    ridge_results[best_alpha][\u001b[33m'\u001b[39m\u001b[33mr2\u001b[39m\u001b[33m'\u001b[39m],\n\u001b[32m     14\u001b[39m                    lasso_results[\u001b[32m0.01\u001b[39m][\u001b[33m'\u001b[39m\u001b[33mr2\u001b[39m\u001b[33m'\u001b[39m],\n\u001b[32m     15\u001b[39m                    r2_poly_test]\n\u001b[32m     16\u001b[39m })\n\u001b[32m     18\u001b[39m \u001b[38;5;28mprint\u001b[39m(\u001b[33m\"\u001b[39m\u001b[38;5;130;01m\\n\u001b[39;00m\u001b[33m\"\u001b[39m + \u001b[33m\"\u001b[39m\u001b[33m=\u001b[39m\u001b[33m\"\u001b[39m * \u001b[32m90\u001b[39m)\n\u001b[32m     19\u001b[39m \u001b[38;5;28mprint\u001b[39m(\u001b[33m\"\u001b[39m\u001b[33m🏆 FINAL MODEL COMPARISON\u001b[39m\u001b[33m\"\u001b[39m)\n",
      "\u001b[31mNameError\u001b[39m: name 'mse_poly_train' is not defined"
     ]
    }
   ],
   "source": [
    "# Compile results\n",
    "from sklearn.preprocessing import PolynomialFeatures\n",
    "\n",
    "from sklearn.metrics import mean_squared_error\n",
    "\n",
    "y_train_pred = model.predict(X_train)\n",
    "\n",
    "mse_poly_train = mean_squared_error(y_train, y_train_pred)\n",
    "\n",
    "results_df = pd.DataFrame({\n",
    "    'Model': ['Linear Regression', 'Ridge (best)', 'Lasso (best)', 'Polynomial (deg=2)'],\n",
    "    'Training MSE': [mse_lr_train, \n",
    "                     mean_squared_error(y_train, ridge_model.predict(X_train_scaled)),\n",
    "                     mean_squared_error(y_train, lasso_results[0.01]['model'].predict(X_train_scaled)),\n",
    "                     mse_poly_train],\n",
    "    'Testing MSE': [mse_lr_test, \n",
    "                    ridge_results[best_alpha]['mse'],\n",
    "                    lasso_results[0.01]['mse'],\n",
    "                    mse_poly_train],\n",
    "    'Testing R²': [r2_lr_test,\n",
    "                   ridge_results[best_alpha]['r2'],\n",
    "                   lasso_results[0.01]['r2'],\n",
    "                   r2_poly_test]\n",
    "})\n",
    "\n",
    "print(\"\\n\" + \"=\" * 90)\n",
    "print(\"🏆 FINAL MODEL COMPARISON\")\n",
    "print(\"=\" * 90)\n",
    "print(results_df.to_string(index=False))\n",
    "print(\"=\" * 90)"
   ]
  },
  {
   "cell_type": "markdown",
   "id": "c5f5f4db",
   "metadata": {},
   "source": [
    "الكود دا بمرن اي عدد من المديلات في ان واحد لنفس البايانات طبعا "
   ]
  },
  {
   "cell_type": "code",
   "execution_count": 12,
   "id": "574b7fca",
   "metadata": {},
   "outputs": [],
   "source": [
    "# ===========================\n",
    "# 📦 Helper 1 — Basic training and evaluation\n",
    "# ===========================\n",
    "def train_and_evaluate(model, X_train, y_train, X_val, y_val):\n",
    "    \"\"\"Train model and compute basic metrics on train and validation sets.\"\"\"\n",
    "    start_time = time.time()\n",
    "    model.fit(X_train, y_train)\n",
    "    training_time = time.time() - start_time\n",
    "\n",
    "    y_train_pred = model.predict(X_train)\n",
    "    y_val_pred = model.predict(X_val)\n",
    "\n",
    "    metrics = {\n",
    "        \"train_rmse\": np.sqrt(mean_squared_error(y_train, y_train_pred)),\n",
    "        \"val_rmse\": np.sqrt(mean_squared_error(y_val, y_val_pred)),\n",
    "        \"train_r2\": r2_score(y_train, y_train_pred),\n",
    "        \"val_r2\": r2_score(y_val, y_val_pred),\n",
    "        \"train_mae\": mean_absolute_error(y_train, y_train_pred),\n",
    "        \"val_mae\": mean_absolute_error(y_val, y_val_pred),\n",
    "        \"training_time\": training_time,\n",
    "        \"overfitting_gap\": r2_score(y_train, y_train_pred) - r2_score(y_val, y_val_pred)\n",
    "    }\n",
    "\n",
    "    return metrics, model"
   ]
  },
  {
   "cell_type": "markdown",
   "id": "6630e8b5",
   "metadata": {},
   "source": [
    "IQR"
   ]
  },
  {
   "cell_type": "code",
   "execution_count": 11,
   "id": "663d5fde",
   "metadata": {},
   "outputs": [],
   "source": [
    "from sklearn.base import BaseEstimator, TransformerMixin\n",
    "\n",
    "# NEW: Outlier Handler for Robust Models\n",
    "class OutlierHandler(BaseEstimator, TransformerMixin):\n",
    "    \"\"\"Handle outliers using IQR method - More robust than simple scaling\"\"\"\n",
    "    \n",
    "    def __init__(self, factor=1.5):\n",
    "        self.factor = factor\n",
    "        self.lower_bounds_ = None\n",
    "        self.upper_bounds_ = None\n",
    "    \n",
    "    def fit(self, X, y=None):\n",
    "        self.lower_bounds_ = []\n",
    "        self.upper_bounds_ = []\n",
    "        \n",
    "        # Calculate IQR bounds for each feature\n",
    "        for i in range(X.shape[1]):\n",
    "            Q1 = np.percentile(X[:, i], 25)  # 25th percentile\n",
    "            Q3 = np.percentile(X[:, i], 75)  # 75th percentile  \n",
    "            IQR = Q3 - Q1  # Interquartile Range\n",
    "            self.lower_bounds_.append(Q1 - self.factor * IQR)\n",
    "            self.upper_bounds_.append(Q3 + self.factor * IQR)\n",
    "        \n",
    "        return self\n",
    "    \n",
    "    def transform(self, X):\n",
    "        X_transformed = X.copy()\n",
    "        # Clip values to IQR bounds\n",
    "        for i in range(X.shape[1]):\n",
    "            lower = self.lower_bounds_[i]\n",
    "            upper = self.upper_bounds_[i]\n",
    "            X_transformed[:, i] = np.clip(X_transformed[:, i], lower, upper)\n",
    "        \n",
    "        return X_transformed"
   ]
  },
  {
   "cell_type": "markdown",
   "id": "ebdf64c7",
   "metadata": {},
   "source": [
    "PIPLINE STEP TO HANLEN BY ONE CODE"
   ]
  },
  {
   "cell_type": "code",
   "execution_count": 8,
   "id": "4e86df47",
   "metadata": {},
   "outputs": [
    {
     "ename": "NameError",
     "evalue": "name 'AdvancedFeatureEngineer' is not defined",
     "output_type": "error",
     "traceback": [
      "\u001b[31m---------------------------------------------------------------------------\u001b[39m",
      "\u001b[31mNameError\u001b[39m                                 Traceback (most recent call last)",
      "\u001b[36mCell\u001b[39m\u001b[36m \u001b[39m\u001b[32mIn[8]\u001b[39m\u001b[32m, line 3\u001b[39m\n\u001b[32m      1\u001b[39m \u001b[38;5;66;03m# Create comprehensive preprocessing pipeline\u001b[39;00m\n\u001b[32m      2\u001b[39m preprocessor = Pipeline([\n\u001b[32m----> \u001b[39m\u001b[32m3\u001b[39m     (\u001b[33m'\u001b[39m\u001b[33mfeature_engineer\u001b[39m\u001b[33m'\u001b[39m, \u001b[43mAdvancedFeatureEngineer\u001b[49m()),  \u001b[38;5;66;03m# Our new features\u001b[39;00m\n\u001b[32m      4\u001b[39m     (\u001b[33m'\u001b[39m\u001b[33moutlier_handler\u001b[39m\u001b[33m'\u001b[39m, OutlierHandler(factor=\u001b[32m1.5\u001b[39m)),  \u001b[38;5;66;03m# Handle outliers\u001b[39;00m\n\u001b[32m      5\u001b[39m     (\u001b[33m'\u001b[39m\u001b[33mscaler\u001b[39m\u001b[33m'\u001b[39m, RobustScaler())  \u001b[38;5;66;03m# Robust to outliers (better than StandardScaler)\u001b[39;00m\n\u001b[32m      6\u001b[39m ])\n\u001b[32m      8\u001b[39m \u001b[38;5;66;03m# Apply preprocessing pipeline\u001b[39;00m\n\u001b[32m      9\u001b[39m \u001b[38;5;28mprint\u001b[39m(\u001b[33m\"\u001b[39m\u001b[33m🔄 Applying preprocessing pipeline...\u001b[39m\u001b[33m\"\u001b[39m)\n",
      "\u001b[31mNameError\u001b[39m: name 'AdvancedFeatureEngineer' is not defined"
     ]
    }
   ],
   "source": [
    "\n",
    "# Create comprehensive preprocessing pipeline\n",
    "preprocessor = Pipeline([\n",
    "    ('feature_engineer', AdvancedFeatureEngineer()),  # Our new features\n",
    "    ('outlier_handler', OutlierHandler(factor=1.5)),  # Handle outliers\n",
    "    ('scaler', RobustScaler())  # Robust to outliers (better than StandardScaler)\n",
    "])\n",
    "\n",
    "# Apply preprocessing pipeline\n",
    "print(\"🔄 Applying preprocessing pipeline...\")\n",
    "X_processed = preprocessor.fit_transform(X, y)\n",
    "\n",
    "print(\"✅ ADVANCED PREPROCESSING PIPELINE BUILT!\")\n",
    "print(f\"📊 Processed data shape: {X_processed.shape}\")\n",
    "print(f\"🎯 All feature names: {preprocessor.named_steps['feature_engineer'].get_feature_names()}\")"
   ]
  },
  {
   "cell_type": "markdown",
   "id": "12ad1c36",
   "metadata": {},
   "source": [
    "Advanced Modle 1 تمريت الداتا علي مل موديل لحال "
   ]
  },
  {
   "cell_type": "code",
   "execution_count": 7,
   "id": "cc44c4da",
   "metadata": {},
   "outputs": [
    {
     "ename": "NameError",
     "evalue": "name 'config' is not defined",
     "output_type": "error",
     "traceback": [
      "\u001b[31m---------------------------------------------------------------------------\u001b[39m",
      "\u001b[31mNameError\u001b[39m                                 Traceback (most recent call last)",
      "\u001b[36mCell\u001b[39m\u001b[36m \u001b[39m\u001b[32mIn[7]\u001b[39m\u001b[32m, line 4\u001b[39m\n\u001b[32m      1\u001b[39m \u001b[38;5;66;03m# define advanced models - Expanded from previous work\u001b[39;00m\n\u001b[32m      2\u001b[39m advanced_models = {\n\u001b[32m      3\u001b[39m     \u001b[33m'\u001b[39m\u001b[33mLinear Regression\u001b[39m\u001b[33m'\u001b[39m: LinearRegression(),\n\u001b[32m----> \u001b[39m\u001b[32m4\u001b[39m     \u001b[33m'\u001b[39m\u001b[33mRidge Regression\u001b[39m\u001b[33m'\u001b[39m: Ridge(random_state=\u001b[43mconfig\u001b[49m.RANDOM_STATE),\n\u001b[32m      5\u001b[39m     \u001b[33m'\u001b[39m\u001b[33mLasso Regression\u001b[39m\u001b[33m'\u001b[39m: Lasso(random_state=config.RANDOM_STATE),\n\u001b[32m      6\u001b[39m     \u001b[33m'\u001b[39m\u001b[33mElasticNet\u001b[39m\u001b[33m'\u001b[39m: ElasticNet(random_state=config.RANDOM_STATE),  \u001b[38;5;66;03m# NEW: Combines L1 + L2\u001b[39;00m\n\u001b[32m      7\u001b[39m     \u001b[33m'\u001b[39m\u001b[33mRandom Forest\u001b[39m\u001b[33m'\u001b[39m: RandomForestRegressor(random_state=config.RANDOM_STATE, n_jobs=config.N_JOBS),\n\u001b[32m      8\u001b[39m     \u001b[33m'\u001b[39m\u001b[33mGradient Boosting\u001b[39m\u001b[33m'\u001b[39m: GradientBoostingRegressor(random_state=config.RANDOM_STATE),  \u001b[38;5;66;03m# NEW: Sequential learning\u001b[39;00m\n\u001b[32m      9\u001b[39m     \u001b[33m'\u001b[39m\u001b[33mSupport Vector Regression\u001b[39m\u001b[33m'\u001b[39m: SVR(),  \u001b[38;5;66;03m# NEW: Different approach\u001b[39;00m\n\u001b[32m     10\u001b[39m }\n\u001b[32m     12\u001b[39m \u001b[38;5;66;03m# NEW: Voting Ensemble - Combines multiple models\u001b[39;00m\n\u001b[32m     13\u001b[39m voting_ensemble = VotingRegressor([\n\u001b[32m     14\u001b[39m     (\u001b[33m'\u001b[39m\u001b[33mridge\u001b[39m\u001b[33m'\u001b[39m, Ridge(random_state=config.RANDOM_STATE)),\n\u001b[32m     15\u001b[39m     (\u001b[33m'\u001b[39m\u001b[33mrf\u001b[39m\u001b[33m'\u001b[39m, RandomForestRegressor(random_state=config.RANDOM_STATE, n_jobs=config.N_JOBS)),\n\u001b[32m     16\u001b[39m     (\u001b[33m'\u001b[39m\u001b[33mgb\u001b[39m\u001b[33m'\u001b[39m, GradientBoostingRegressor(random_state=config.RANDOM_STATE))\n\u001b[32m     17\u001b[39m ])\n",
      "\u001b[31mNameError\u001b[39m: name 'config' is not defined"
     ]
    }
   ],
   "source": [
    "# define advanced models - Expanded from previous work\n",
    "advanced_models = {\n",
    "    'Linear Regression': LinearRegression(),\n",
    "    'Ridge Regression': Ridge(random_state=config.RANDOM_STATE),\n",
    "    'Lasso Regression': Lasso(random_state=config.RANDOM_STATE),\n",
    "    'ElasticNet': ElasticNet(random_state=config.RANDOM_STATE),  # NEW: Combines L1 + L2\n",
    "    'Random Forest': RandomForestRegressor(random_state=config.RANDOM_STATE, n_jobs=config.N_JOBS),\n",
    "    'Gradient Boosting': GradientBoostingRegressor(random_state=config.RANDOM_STATE),  # NEW: Sequential learning\n",
    "    'Support Vector Regression': SVR(),  # NEW: Different approach\n",
    "}\n",
    "\n",
    "# NEW: Voting Ensemble - Combines multiple models\n",
    "voting_ensemble = VotingRegressor([\n",
    "    ('ridge', Ridge(random_state=config.RANDOM_STATE)),\n",
    "    ('rf', RandomForestRegressor(random_state=config.RANDOM_STATE, n_jobs=config.N_JOBS)),\n",
    "    ('gb', GradientBoostingRegressor(random_state=config.RANDOM_STATE))\n",
    "])\n",
    "\n",
    "advanced_models['Voting Ensemble'] = voting_ensemble\n",
    "\n",
    "print(f\"\\n🎯 MODEL PORTFOLIO ({len(advanced_models)} models):\")"
   ]
  },
  {
   "cell_type": "markdown",
   "id": "f2143315",
   "metadata": {},
   "source": [
    "تمرين الداتا مرتبط بالتمرين "
   ]
  },
  {
   "cell_type": "code",
   "execution_count": 4,
   "id": "680f09ee",
   "metadata": {},
   "outputs": [],
   "source": [
    "# ===========================\n",
    "# 📦 Helper 1 — Basic training and evaluation\n",
    "# ===========================\n",
    "def train_and_evaluate(model, X_train, y_train, X_val, y_val):\n",
    "    \"\"\"Train model and compute basic metrics on train and validation sets.\"\"\"\n",
    "    start_time = time.time()\n",
    "    model.fit(X_train, y_train)\n",
    "    training_time = time.time() - start_time\n",
    "\n",
    "    y_train_pred = model.predict(X_train)\n",
    "    y_val_pred = model.predict(X_val)\n",
    "\n",
    "    metrics = {\n",
    "        \"train_rmse\": np.sqrt(mean_squared_error(y_train, y_train_pred)),\n",
    "        \"val_rmse\": np.sqrt(mean_squared_error(y_val, y_val_pred)),\n",
    "        \"train_r2\": r2_score(y_train, y_train_pred),\n",
    "        \"val_r2\": r2_score(y_val, y_val_pred),\n",
    "        \"train_mae\": mean_absolute_error(y_train, y_train_pred),\n",
    "        \"val_mae\": mean_absolute_error(y_val, y_val_pred),\n",
    "        \"training_time\": training_time,\n",
    "        \"overfitting_gap\": r2_score(y_train, y_train_pred) - r2_score(y_val, y_val_pred)\n",
    "    }\n",
    "\n",
    "    return metrics, model"
   ]
  },
  {
   "cell_type": "markdown",
   "id": "a1e723e1",
   "metadata": {},
   "source": [
    "starting advance modle evaluation CROSS"
   ]
  },
  {
   "cell_type": "code",
   "execution_count": 5,
   "id": "673d4015",
   "metadata": {},
   "outputs": [
    {
     "name": "stdout",
     "output_type": "stream",
     "text": [
      "🚀 STARTING ADVANCED MODEL EVALUATION...\n",
      "Each model is being trained, evaluated, and tracked in MLflow\n"
     ]
    },
    {
     "ename": "NameError",
     "evalue": "name 'advanced_models' is not defined",
     "output_type": "error",
     "traceback": [
      "\u001b[31m---------------------------------------------------------------------------\u001b[39m",
      "\u001b[31mNameError\u001b[39m                                 Traceback (most recent call last)",
      "\u001b[36mCell\u001b[39m\u001b[36m \u001b[39m\u001b[32mIn[5]\u001b[39m\u001b[32m, line 51\u001b[39m\n\u001b[32m     48\u001b[39m results = {}\n\u001b[32m     49\u001b[39m trained_models = {}\n\u001b[32m---> \u001b[39m\u001b[32m51\u001b[39m \u001b[38;5;28;01mfor\u001b[39;00m name, model \u001b[38;5;129;01min\u001b[39;00m \u001b[43madvanced_models\u001b[49m.items():\n\u001b[32m     52\u001b[39m     \u001b[38;5;28mprint\u001b[39m(\u001b[33mf\u001b[39m\u001b[33m\"\u001b[39m\u001b[38;5;130;01m\\n\u001b[39;00m\u001b[33m🔧 Training \u001b[39m\u001b[38;5;132;01m{\u001b[39;00mname\u001b[38;5;132;01m}\u001b[39;00m\u001b[33m...\u001b[39m\u001b[33m\"\u001b[39m)\n\u001b[32m     53\u001b[39m     metrics, trained_model = evaluate_model_advanced(\n\u001b[32m     54\u001b[39m         model, X_train, X_val, y_train, y_val, name\n\u001b[32m     55\u001b[39m     )\n",
      "\u001b[31mNameError\u001b[39m: name 'advanced_models' is not defined"
     ]
    }
   ],
   "source": [
    "def evaluate_model_advanced(model, X_train, X_val, y_train, y_val, model_name):\n",
    "    \"\"\"Comprehensive model evaluation with MLflow tracking\"\"\"\n",
    "    \n",
    "    # Start MLflow run for experiment tracking\n",
    "    with mlflow.start_run(run_name=model_name):\n",
    "        # Train model with timing\n",
    "        start_time = time.time()\n",
    "        model.fit(X_train, y_train)\n",
    "        training_time = time.time() - start_time\n",
    "        \n",
    "        # Predictions on both sets\n",
    "        y_train_pred = model.predict(X_train)\n",
    "        y_val_pred = model.predict(X_val)\n",
    "        \n",
    "        # Calculate comprehensive metrics\n",
    "        metrics = {\n",
    "            'train_rmse': np.sqrt(mean_squared_error(y_train, y_train_pred)),\n",
    "            'val_rmse': np.sqrt(mean_squared_error(y_val, y_val_pred)),\n",
    "            'train_r2': r2_score(y_train, y_train_pred),\n",
    "            'val_r2': r2_score(y_val, y_val_pred),\n",
    "            'train_mae': mean_absolute_error(y_train, y_train_pred),\n",
    "            'val_mae': mean_absolute_error(y_val, y_val_pred),\n",
    "            'training_time': training_time,\n",
    "            'overfitting_gap': r2_score(y_train, y_train_pred) - r2_score(y_val, y_val_pred)\n",
    "        }\n",
    "        \n",
    "        # AUTOMATIC TRACKING with MLflow\n",
    "        mlflow.log_params(model.get_params())  # Log hyperparameters\n",
    "        mlflow.log_metrics({k: v for k, v in metrics.items() if k != 'training_time'})\n",
    "        mlflow.sklearn.log_model(model, \"model\")  # Save model artifact\n",
    "        \n",
    "        # Cross-validation for robust performance estimate\n",
    "        cv_scores = cross_val_score(model, X_train, y_train, \n",
    "                                  cv=config.CV_FOLDS, scoring='r2', n_jobs=config.N_JOBS)\n",
    "        metrics['cv_r2_mean'] = cv_scores.mean()\n",
    "        metrics['cv_r2_std'] = cv_scores.std()\n",
    "        \n",
    "        mlflow.log_metrics({\n",
    "            'cv_r2_mean': metrics['cv_r2_mean'],\n",
    "            'cv_r2_std': metrics['cv_r2_std']\n",
    "        })\n",
    "        \n",
    "        return metrics, model\n",
    "\n",
    "print(\"🚀 STARTING ADVANCED MODEL EVALUATION...\")\n",
    "print(\"Each model is being trained, evaluated, and tracked in MLflow\")\n",
    "\n",
    "results = {}\n",
    "trained_models = {}\n",
    "\n",
    "for name, model in advanced_models.items():\n",
    "    print(f\"\\n🔧 Training {name}...\")\n",
    "    metrics, trained_model = evaluate_model_advanced(\n",
    "        model, X_train, X_val, y_train, y_val, name\n",
    "    )\n",
    "    results[name] = metrics\n",
    "    trained_models[name] = trained_model\n",
    "    \n",
    "    # Progress reporting\n",
    "    overfitting_indicator = \"⚠️\" if metrics['overfitting_gap'] > 0.1 else \"✅\"\n",
    "    print(f\"✅ {name:20} | Val R²: {metrics['val_r2']:.4f} | \"\n",
    "          f\"CV R²: {metrics['cv_r2_mean']:.4f} ± {metrics['cv_r2_std']:.4f} \"\n",
    "          f\"{overfitting_indicator}\")\n",
    "\n",
    "print(f\"\\n📈 All models trained and tracked in MLflow!\")\n",
    "print(f\"💡 Check MLflow UI: mlflow ui --backend-store-uri {config.EXPERIMENT_DIR}\")"
   ]
  },
  {
   "cell_type": "markdown",
   "id": "bf30586e",
   "metadata": {},
   "source": [
    "مقارنة اداء الموديلات مع الرسم 1"
   ]
  },
  {
   "cell_type": "code",
   "execution_count": 6,
   "id": "18b31894",
   "metadata": {},
   "outputs": [
    {
     "ename": "IndentationError",
     "evalue": "unexpected indent (1927310557.py, line 1)",
     "output_type": "error",
     "traceback": [
      "  \u001b[36mCell\u001b[39m\u001b[36m \u001b[39m\u001b[32mIn[6]\u001b[39m\u001b[32m, line 1\u001b[39m\n\u001b[31m    \u001b[39m\u001b[31m===========================\u001b[39m\n    ^\n\u001b[31mIndentationError\u001b[39m\u001b[31m:\u001b[39m unexpected indent\n"
     ]
    }
   ],
   "source": [
    " ===========================\n",
    "# 1️⃣ Convert results dict to DataFrame\n",
    "# ===========================\n",
    "metrics_df = pd.DataFrame(results).T  # transpose so models are rows\n",
    "metrics_df = metrics_df[['val_r2', 'val_rmse', 'val_mae', 'overfitting_gap', 'cv_r2_mean']]\n",
    "metrics_df = metrics_df.reset_index().rename(columns={'index': 'Model'})\n",
    "\n",
    "print(\"📊 Model comparison table:\")\n",
    "display(metrics_df)\n",
    "\n",
    "# ===========================\n",
    "# 2️⃣ Plot Validation R² (Higher is better)\n",
    "# ===========================\n",
    "plt.figure(figsize=(10, 5))\n",
    "sns.barplot(data=metrics_df, x='Model', y='val_r2', palette='viridis')\n",
    "plt.xticks(rotation=45, ha='right')\n",
    "plt.title('Validation R² Comparison (Higher is Better ✅)')\n",
    "plt.ylabel('Validation R²')\n",
    "plt.xlabel('')\n",
    "plt.ylim(0, 1)\n",
    "plt.show()\n",
    "\n",
    "# ===========================\n",
    "# 3️⃣ Plot Validation RMSE (Lower is better)\n",
    "# ===========================\n",
    "plt.figure(figsize=(10, 5))\n",
    "sns.barplot(data=metrics_df, x='Model', y='val_rmse', palette='magma')\n",
    "plt.xticks(rotation=45, ha='right')\n",
    "plt.title('Validation RMSE Comparison (Lower is Better ✅)')\n",
    "plt.ylabel('Validation RMSE')\n",
    "plt.xlabel('')\n",
    "plt.show()\n",
    "\n",
    "# ===========================\n",
    "# 4️⃣ Plot Overfitting Gap (Closer to 0 is better)\n",
    "# ===========================\n",
    "plt.figure(figsize=(10, 5))\n",
    "sns.barplot(data=metrics_df, x='Model', y='overfitting_gap', palette='coolwarm')\n",
    "plt.xticks(rotation=45, ha='right')\n",
    "plt.title('Overfitting Gap (train R² - val R²) - Closer to 0 is Better ⚖️')\n",
    "plt.ylabel('Overfitting Gap')\n",
    "plt.xlabel('')\n",
    "plt.show()\n"
   ]
  }
 ],
 "metadata": {
  "kernelspec": {
   "display_name": ".venv (3.12.10)",
   "language": "python",
   "name": "python3"
  },
  "language_info": {
   "codemirror_mode": {
    "name": "ipython",
    "version": 3
   },
   "file_extension": ".py",
   "mimetype": "text/x-python",
   "name": "python",
   "nbconvert_exporter": "python",
   "pygments_lexer": "ipython3",
   "version": "3.12.10"
  }
 },
 "nbformat": 4,
 "nbformat_minor": 5
}
