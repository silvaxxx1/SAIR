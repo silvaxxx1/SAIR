{
 "cells": [
  {
   "cell_type": "markdown",
   "id": "6f94e92a",
   "metadata": {},
   "source": [
    "# 📓 تدريب ومقارنة النماذج وحفظ الأفضل\n",
    "\n",
    "هذا الدفتر يشرح تدريب عدة نماذج، ضبط المعاملات، ومقارنة الأداء."
   ]
  },
  {
   "cell_type": "code",
   "execution_count": null,
   "id": "49463c37",
   "metadata": {},
   "outputs": [],
   "source": [
    "import pandas as pd\n",
    "import numpy as np\n",
    "import matplotlib.pyplot as plt\n",
    "import seaborn as sns\n",
    "from sklearn.model_selection import train_test_split\n",
    "from sklearn.preprocessing import LabelEncoder\n",
    "from sklearn.ensemble import RandomForestRegressor, GradientBoostingRegressor\n",
    "from sklearn.tree import DecisionTreeRegressor\n",
    "from sklearn.linear_model import LinearRegression\n",
    "from sklearn.svm import SVR\n",
    "from sklearn.metrics import mean_squared_error, r2_score\n",
    "import joblib\n",
    "\n",
    "sns.set()\n",
    "\n",
    "url = ('https://raw.githubusercontent.com/stedy/Machine-Learning-with-R-datasets/master/insurance.csv')\n",
    "df = pd.read_csv(url)\n",
    "df.head()"
   ]
  },
  {
   "cell_type": "markdown",
   "id": "0d294104",
   "metadata": {},
   "source": [
    "## تجهيز البيانات"
   ]
  },
  {
   "cell_type": "code",
   "execution_count": null,
   "id": "8e929c7d",
   "metadata": {},
   "outputs": [],
   "source": [
    "df['sex'] = df['sex'].map({'female':0,'male':1})\n",
    "df['smoker'] = df['smoker'].map({'no':0,'yes':1})\n",
    "df = pd.get_dummies(df, columns=['region'], drop_first=True)\n",
    "X = df.drop('charges', axis=1)\n",
    "y = df['charges']\n",
    "X_train, X_test, y_train, y_test = train_test_split(X,y,test_size=0.2,random_state=42)\n",
    "X_train.shape"
   ]
  },
  {
   "cell_type": "markdown",
   "id": "afbadb51",
   "metadata": {},
   "source": [
    "## تدريب موديل Random Forest كمثال"
   ]
  },
  {
   "cell_type": "code",
   "execution_count": null,
   "id": "fd3a19c7",
   "metadata": {},
   "outputs": [],
   "source": [
    "rf = RandomForestRegressor(random_state=42, n_estimators=100)\n",
    "rf.fit(X_train, y_train)\n",
    "preds = rf.predict(X_test)\n",
    "print('RMSE:', (mean_squared_error(y_test,preds)**0.5))\n",
    "joblib.dump(rf, '../models/best_model_example.pkl')\n",
    "print('Saved example model to ../models/best_model_example.pkl')"
   ]
  },
  {
   "cell_type": "markdown",
   "id": "de18d9cf",
   "metadata": {},
   "source": [
    "الدفتر يوضح مثالاً. لا تنسى تشغيل `train_and_select_models.py` لاختبار كل النماذج وضبط معاملاتهم وحفظ الأفضل."
   ]
  }
 ],
 "metadata": {
  "kernelspec": {
   "display_name": "SAIR",
   "language": "python",
   "name": "python3"
  },
  "language_info": {
   "name": "python",
   "version": "3.12.3"
  }
 },
 "nbformat": 4,
 "nbformat_minor": 5
}
